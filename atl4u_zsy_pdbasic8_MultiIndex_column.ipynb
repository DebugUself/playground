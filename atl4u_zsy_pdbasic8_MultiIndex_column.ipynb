{
 "cells": [
  {
   "cell_type": "markdown",
   "metadata": {},
   "source": [
    " 0.日期\n",
    " 20170703\n",
    " \n",
    " # 1.问题\n",
    " - index: 1周数据有5个series, 5个series需要赋予日期属性, 日期方案\n",
    "   + 手打 mon tue wed...字典key装\n",
    "   + 自动化 yy-mm-dd\n",
    "     * index=pd.date_range('start', periods, freq)\n",
    " - 拼接: 5个series用字典方式拼成df\n",
    " - 计算: 8个类比开始运算\n",
    " \n",
    " # 2.行动\n",
    " ### 行动1: index+拼接\n",
    " - 5个series用字典的key连接成dataframe\n",
    " - 风险: 使用字典的key为'mon' 'tue'等, 无法从周一到周五排序\n",
    " ### 行动2: 运算\n",
    " ### 行动3\n",
    " # 3.经验教训\n",
    " "
   ]
  },
  {
   "cell_type": "markdown",
   "metadata": {},
   "source": [
    "### 行动1: 活动类型做index日期做columns "
   ]
  },
  {
   "cell_type": "code",
   "execution_count": 2,
   "metadata": {
    "collapsed": true
   },
   "outputs": [],
   "source": [
    "import pandas as pd\n",
    "import numpy as np"
   ]
  },
  {
   "cell_type": "code",
   "execution_count": 1,
   "metadata": {},
   "outputs": [
    {
     "data": {
      "text/plain": [
       "[('0py', 'A'),\n",
       " ('0py', 'B'),\n",
       " ('1ce', 'A'),\n",
       " ('1ce', 'B'),\n",
       " ('2rd', 'A'),\n",
       " ('2rd', 'B'),\n",
       " ('3gf', 'A'),\n",
       " ('3gf', 'B')]"
      ]
     },
     "execution_count": 1,
     "metadata": {},
     "output_type": "execute_result"
    }
   ],
   "source": [
    "index = [('0py', 'A'), ('0py', 'B'),\n",
    "         ('1ce', 'A'), ('1ce', 'B'),\n",
    "         ('2rd', 'A'), ('2rd', 'B'),\n",
    "         ('3gf', 'A'), ('3gf', 'B')]\n",
    "index"
   ]
  },
  {
   "cell_type": "code",
   "execution_count": 6,
   "metadata": {
    "collapsed": true
   },
   "outputs": [],
   "source": [
    "data1 = np.random.rand(8)\n",
    "data1 = pd.Series(data1, index=index)\n",
    "data2 = np.random.rand(8)\n",
    "data2 = pd.Series(data2, index=index)\n",
    "data3 = np.random.rand(8)\n",
    "data3 = pd.Series(data3, index=index)\n",
    "data4 = np.random.rand(8)\n",
    "data4 = pd.Series(data4, index=index)\n",
    "data5 = np.random.rand(8)\n",
    "data5 = pd.Series(data5, index=index)"
   ]
  },
  {
   "cell_type": "code",
   "execution_count": 7,
   "metadata": {},
   "outputs": [
    {
     "data": {
      "text/html": [
       "<div>\n",
       "<style>\n",
       "    .dataframe thead tr:only-child th {\n",
       "        text-align: right;\n",
       "    }\n",
       "\n",
       "    .dataframe thead th {\n",
       "        text-align: left;\n",
       "    }\n",
       "\n",
       "    .dataframe tbody tr th {\n",
       "        vertical-align: top;\n",
       "    }\n",
       "</style>\n",
       "<table border=\"1\" class=\"dataframe\">\n",
       "  <thead>\n",
       "    <tr style=\"text-align: right;\">\n",
       "      <th></th>\n",
       "      <th>Fri</th>\n",
       "      <th>Mon</th>\n",
       "      <th>Thu</th>\n",
       "      <th>Tue</th>\n",
       "      <th>Wed</th>\n",
       "    </tr>\n",
       "  </thead>\n",
       "  <tbody>\n",
       "    <tr>\n",
       "      <th>(0py, A)</th>\n",
       "      <td>0.285552</td>\n",
       "      <td>0.866492</td>\n",
       "      <td>0.260497</td>\n",
       "      <td>0.640337</td>\n",
       "      <td>0.798195</td>\n",
       "    </tr>\n",
       "    <tr>\n",
       "      <th>(0py, B)</th>\n",
       "      <td>0.792982</td>\n",
       "      <td>0.982897</td>\n",
       "      <td>0.331929</td>\n",
       "      <td>0.008201</td>\n",
       "      <td>0.639144</td>\n",
       "    </tr>\n",
       "    <tr>\n",
       "      <th>(1ce, A)</th>\n",
       "      <td>0.115302</td>\n",
       "      <td>0.764024</td>\n",
       "      <td>0.425456</td>\n",
       "      <td>0.826141</td>\n",
       "      <td>0.541552</td>\n",
       "    </tr>\n",
       "    <tr>\n",
       "      <th>(1ce, B)</th>\n",
       "      <td>0.679476</td>\n",
       "      <td>0.434517</td>\n",
       "      <td>0.846946</td>\n",
       "      <td>0.601374</td>\n",
       "      <td>0.396486</td>\n",
       "    </tr>\n",
       "    <tr>\n",
       "      <th>(2rd, A)</th>\n",
       "      <td>0.060655</td>\n",
       "      <td>0.240206</td>\n",
       "      <td>0.063429</td>\n",
       "      <td>0.358227</td>\n",
       "      <td>0.588919</td>\n",
       "    </tr>\n",
       "    <tr>\n",
       "      <th>(2rd, B)</th>\n",
       "      <td>0.909303</td>\n",
       "      <td>0.363713</td>\n",
       "      <td>0.390819</td>\n",
       "      <td>0.704059</td>\n",
       "      <td>0.153028</td>\n",
       "    </tr>\n",
       "    <tr>\n",
       "      <th>(3gf, A)</th>\n",
       "      <td>0.324754</td>\n",
       "      <td>0.610257</td>\n",
       "      <td>0.217193</td>\n",
       "      <td>0.910628</td>\n",
       "      <td>0.064429</td>\n",
       "    </tr>\n",
       "    <tr>\n",
       "      <th>(3gf, B)</th>\n",
       "      <td>0.868977</td>\n",
       "      <td>0.457331</td>\n",
       "      <td>0.406744</td>\n",
       "      <td>0.940252</td>\n",
       "      <td>0.016947</td>\n",
       "    </tr>\n",
       "  </tbody>\n",
       "</table>\n",
       "</div>"
      ],
      "text/plain": [
       "               Fri       Mon       Thu       Tue       Wed\n",
       "(0py, A)  0.285552  0.866492  0.260497  0.640337  0.798195\n",
       "(0py, B)  0.792982  0.982897  0.331929  0.008201  0.639144\n",
       "(1ce, A)  0.115302  0.764024  0.425456  0.826141  0.541552\n",
       "(1ce, B)  0.679476  0.434517  0.846946  0.601374  0.396486\n",
       "(2rd, A)  0.060655  0.240206  0.063429  0.358227  0.588919\n",
       "(2rd, B)  0.909303  0.363713  0.390819  0.704059  0.153028\n",
       "(3gf, A)  0.324754  0.610257  0.217193  0.910628  0.064429\n",
       "(3gf, B)  0.868977  0.457331  0.406744  0.940252  0.016947"
      ]
     },
     "execution_count": 7,
     "metadata": {},
     "output_type": "execute_result"
    }
   ],
   "source": [
    "df = pd.DataFrame({'Mon': data1,\n",
    "                   'Tue': data2,\n",
    "                   'Wed': data3,\n",
    "                   'Thu': data4,\n",
    "                   'Fri': data5})\n",
    "df"
   ]
  },
  {
   "cell_type": "markdown",
   "metadata": {},
   "source": [
    "风险: 使用字典的key为'mon' 'tue'等, 无法从周一到周五排序"
   ]
  },
  {
   "cell_type": "markdown",
   "metadata": {
    "collapsed": true
   },
   "source": [
    "### 行动2: 日期做index活动类型做columns"
   ]
  },
  {
   "cell_type": "code",
   "execution_count": null,
   "metadata": {
    "collapsed": true
   },
   "outputs": [],
   "source": []
  },
  {
   "cell_type": "code",
   "execution_count": 2,
   "metadata": {
    "collapsed": true
   },
   "outputs": [],
   "source": [
    "import pandas as pd\n",
    "import numpy as np"
   ]
  },
  {
   "cell_type": "code",
   "execution_count": 7,
   "metadata": {},
   "outputs": [
    {
     "data": {
      "text/plain": [
       "DatetimeIndex(['2017-06-26', '2017-06-27', '2017-06-28', '2017-06-29',\n",
       "               '2017-06-30'],\n",
       "              dtype='datetime64[ns]', freq='B')"
      ]
     },
     "execution_count": 7,
     "metadata": {},
     "output_type": "execute_result"
    }
   ],
   "source": [
    "index=pd.date_range('2017/06/26', periods=5, freq='B')\n",
    "index"
   ]
  },
  {
   "cell_type": "code",
   "execution_count": 5,
   "metadata": {},
   "outputs": [
    {
     "data": {
      "text/plain": [
       "MultiIndex(levels=[['0py', '1ce', '2rd', '3gf'], ['A', 'B']],\n",
       "           labels=[[0, 0, 1, 1, 2, 2, 3, 3], [0, 1, 0, 1, 0, 1, 0, 1]],\n",
       "           names=['subject', 'type'])"
      ]
     },
     "execution_count": 5,
     "metadata": {},
     "output_type": "execute_result"
    }
   ],
   "source": [
    "columns = pd.MultiIndex.from_product(\n",
    "    [['0py', '1ce', '2rd', '3gf'], ['A', 'B']], \n",
    "    names=['subject', 'type'])\n",
    "columns"
   ]
  },
  {
   "cell_type": "code",
   "execution_count": 10,
   "metadata": {},
   "outputs": [
    {
     "data": {
      "text/plain": [
       "array([[  9.2,  11.6,  10.2,  10.2,   9.7,  10.4,   9.4,  11. ],\n",
       "       [ 11.4,  10.7,  10.1,  11.1,   8.8,   9.6,   9. ,   9.5],\n",
       "       [  9. ,   9.2,  10.4,   9.4,  10.7,   7.8,  10.8,  10.6],\n",
       "       [ 10.1,   9.1,  10.1,  10. ,  10. ,   8.7,  11. ,  10.7],\n",
       "       [  9.7,  11. ,   9.9,   9.2,  10.1,  10.4,  10.4,  10.7]])"
      ]
     },
     "execution_count": 10,
     "metadata": {},
     "output_type": "execute_result"
    }
   ],
   "source": [
    "data = np.round(np.random.randn(5, 8), 1)\n",
    "data += 10\n",
    "data"
   ]
  },
  {
   "cell_type": "code",
   "execution_count": 11,
   "metadata": {},
   "outputs": [
    {
     "data": {
      "text/html": [
       "<div>\n",
       "<style>\n",
       "    .dataframe thead tr:only-child th {\n",
       "        text-align: right;\n",
       "    }\n",
       "\n",
       "    .dataframe thead th {\n",
       "        text-align: left;\n",
       "    }\n",
       "\n",
       "    .dataframe tbody tr th {\n",
       "        vertical-align: top;\n",
       "    }\n",
       "</style>\n",
       "<table border=\"1\" class=\"dataframe\">\n",
       "  <thead>\n",
       "    <tr>\n",
       "      <th>subject</th>\n",
       "      <th colspan=\"2\" halign=\"left\">0py</th>\n",
       "      <th colspan=\"2\" halign=\"left\">1ce</th>\n",
       "      <th colspan=\"2\" halign=\"left\">2rd</th>\n",
       "      <th colspan=\"2\" halign=\"left\">3gf</th>\n",
       "    </tr>\n",
       "    <tr>\n",
       "      <th>type</th>\n",
       "      <th>A</th>\n",
       "      <th>B</th>\n",
       "      <th>A</th>\n",
       "      <th>B</th>\n",
       "      <th>A</th>\n",
       "      <th>B</th>\n",
       "      <th>A</th>\n",
       "      <th>B</th>\n",
       "    </tr>\n",
       "  </thead>\n",
       "  <tbody>\n",
       "    <tr>\n",
       "      <th>2017-06-26</th>\n",
       "      <td>9.2</td>\n",
       "      <td>11.6</td>\n",
       "      <td>10.2</td>\n",
       "      <td>10.2</td>\n",
       "      <td>9.7</td>\n",
       "      <td>10.4</td>\n",
       "      <td>9.4</td>\n",
       "      <td>11.0</td>\n",
       "    </tr>\n",
       "    <tr>\n",
       "      <th>2017-06-27</th>\n",
       "      <td>11.4</td>\n",
       "      <td>10.7</td>\n",
       "      <td>10.1</td>\n",
       "      <td>11.1</td>\n",
       "      <td>8.8</td>\n",
       "      <td>9.6</td>\n",
       "      <td>9.0</td>\n",
       "      <td>9.5</td>\n",
       "    </tr>\n",
       "    <tr>\n",
       "      <th>2017-06-28</th>\n",
       "      <td>9.0</td>\n",
       "      <td>9.2</td>\n",
       "      <td>10.4</td>\n",
       "      <td>9.4</td>\n",
       "      <td>10.7</td>\n",
       "      <td>7.8</td>\n",
       "      <td>10.8</td>\n",
       "      <td>10.6</td>\n",
       "    </tr>\n",
       "    <tr>\n",
       "      <th>2017-06-29</th>\n",
       "      <td>10.1</td>\n",
       "      <td>9.1</td>\n",
       "      <td>10.1</td>\n",
       "      <td>10.0</td>\n",
       "      <td>10.0</td>\n",
       "      <td>8.7</td>\n",
       "      <td>11.0</td>\n",
       "      <td>10.7</td>\n",
       "    </tr>\n",
       "    <tr>\n",
       "      <th>2017-06-30</th>\n",
       "      <td>9.7</td>\n",
       "      <td>11.0</td>\n",
       "      <td>9.9</td>\n",
       "      <td>9.2</td>\n",
       "      <td>10.1</td>\n",
       "      <td>10.4</td>\n",
       "      <td>10.4</td>\n",
       "      <td>10.7</td>\n",
       "    </tr>\n",
       "  </tbody>\n",
       "</table>\n",
       "</div>"
      ],
      "text/plain": [
       "subject      0py         1ce         2rd         3gf      \n",
       "type           A     B     A     B     A     B     A     B\n",
       "2017-06-26   9.2  11.6  10.2  10.2   9.7  10.4   9.4  11.0\n",
       "2017-06-27  11.4  10.7  10.1  11.1   8.8   9.6   9.0   9.5\n",
       "2017-06-28   9.0   9.2  10.4   9.4  10.7   7.8  10.8  10.6\n",
       "2017-06-29  10.1   9.1  10.1  10.0  10.0   8.7  11.0  10.7\n",
       "2017-06-30   9.7  11.0   9.9   9.2  10.1  10.4  10.4  10.7"
      ]
     },
     "execution_count": 11,
     "metadata": {},
     "output_type": "execute_result"
    }
   ],
   "source": [
    "wk_data = pd.DataFrame(data, index=index, columns=columns)\n",
    "wk_data"
   ]
  },
  {
   "cell_type": "code",
   "execution_count": 15,
   "metadata": {},
   "outputs": [
    {
     "data": {
      "text/plain": [
       "2017-06-26     9.2\n",
       "2017-06-27    11.4\n",
       "2017-06-28     9.0\n",
       "2017-06-29    10.1\n",
       "2017-06-30     9.7\n",
       "Freq: B, Name: (0py, A), dtype: float64"
      ]
     },
     "execution_count": 15,
     "metadata": {},
     "output_type": "execute_result"
    }
   ],
   "source": [
    "wk_data['0py', 'A']"
   ]
  },
  {
   "cell_type": "code",
   "execution_count": null,
   "metadata": {
    "collapsed": true
   },
   "outputs": [],
   "source": []
  },
  {
   "cell_type": "code",
   "execution_count": 13,
   "metadata": {},
   "outputs": [
    {
     "data": {
      "text/html": [
       "<div>\n",
       "<style>\n",
       "    .dataframe thead tr:only-child th {\n",
       "        text-align: right;\n",
       "    }\n",
       "\n",
       "    .dataframe thead th {\n",
       "        text-align: left;\n",
       "    }\n",
       "\n",
       "    .dataframe tbody tr th {\n",
       "        vertical-align: top;\n",
       "    }\n",
       "</style>\n",
       "<table border=\"1\" class=\"dataframe\">\n",
       "  <thead>\n",
       "    <tr style=\"text-align: right;\">\n",
       "      <th>type</th>\n",
       "      <th>A</th>\n",
       "      <th>B</th>\n",
       "    </tr>\n",
       "  </thead>\n",
       "  <tbody>\n",
       "    <tr>\n",
       "      <th>2017-06-26</th>\n",
       "      <td>9.2</td>\n",
       "      <td>11.6</td>\n",
       "    </tr>\n",
       "    <tr>\n",
       "      <th>2017-06-27</th>\n",
       "      <td>11.4</td>\n",
       "      <td>10.7</td>\n",
       "    </tr>\n",
       "    <tr>\n",
       "      <th>2017-06-28</th>\n",
       "      <td>9.0</td>\n",
       "      <td>9.2</td>\n",
       "    </tr>\n",
       "    <tr>\n",
       "      <th>2017-06-29</th>\n",
       "      <td>10.1</td>\n",
       "      <td>9.1</td>\n",
       "    </tr>\n",
       "    <tr>\n",
       "      <th>2017-06-30</th>\n",
       "      <td>9.7</td>\n",
       "      <td>11.0</td>\n",
       "    </tr>\n",
       "  </tbody>\n",
       "</table>\n",
       "</div>"
      ],
      "text/plain": [
       "type           A     B\n",
       "2017-06-26   9.2  11.6\n",
       "2017-06-27  11.4  10.7\n",
       "2017-06-28   9.0   9.2\n",
       "2017-06-29  10.1   9.1\n",
       "2017-06-30   9.7  11.0"
      ]
     },
     "execution_count": 13,
     "metadata": {},
     "output_type": "execute_result"
    }
   ],
   "source": [
    "wk_data['0py']"
   ]
  },
  {
   "cell_type": "code",
   "execution_count": 16,
   "metadata": {},
   "outputs": [
    {
     "data": {
      "text/plain": [
       "9.88"
      ]
     },
     "execution_count": 16,
     "metadata": {},
     "output_type": "execute_result"
    }
   ],
   "source": [
    "test1 = wk_data['0py', 'A']\n",
    "test1.mean()"
   ]
  },
  {
   "cell_type": "markdown",
   "metadata": {},
   "source": [
    "注: 单列数据可以计算平均值\n",
    "问: 两列数据相加再如何计算平均值？"
   ]
  },
  {
   "cell_type": "markdown",
   "metadata": {},
   "source": [
    "### 行动3: 2列数据相加"
   ]
  },
  {
   "cell_type": "code",
   "execution_count": null,
   "metadata": {
    "collapsed": true
   },
   "outputs": [],
   "source": [
    "\n"
   ]
  }
 ],
 "metadata": {
  "kernelspec": {
   "display_name": "Python 3",
   "language": "python",
   "name": "python3"
  },
  "language_info": {
   "codemirror_mode": {
    "name": "ipython",
    "version": 3
   },
   "file_extension": ".py",
   "mimetype": "text/x-python",
   "name": "python",
   "nbconvert_exporter": "python",
   "pygments_lexer": "ipython3",
   "version": "3.6.1"
  }
 },
 "nbformat": 4,
 "nbformat_minor": 2
}
