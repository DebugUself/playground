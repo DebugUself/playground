{
 "cells": [
  {
   "cell_type": "markdown",
   "metadata": {},
   "source": [
    "# 日期\n",
    "20170627\n",
    "\n",
    "# 問題\n",
    "dataframe的列可以用指定排序\n",
    "行列对应关系不被破坏, 排列出最大的20%的数\n",
    "\n",
    "# 行動\n",
    "~ 参考资料\n",
    "- [使用Pandas对数据进行筛选和排序](http://bluewhale.cc/2016-08-06/use-pandas-filter-and-sort.html)\n",
    "- PythonDataScienceHandbook.sorting arrays.P85\n",
    "\n",
    "## 行動1\n",
    "- np.sort(data, axis=0)\n",
    "- 行列关系打破很危险\n",
    "\n",
    "## 行動2\n",
    "- 抛弃行列关系\n",
    "- 用np.sort()排序单项活动\n",
    "\n",
    "# 經驗教訓\n",
    "1. 能被计算只能是series或array\n",
    "2. dataframe只是用来存储\n",
    "3. 计算是单条的; 存储是成片的\n",
    "\n",
    "# 反饋\n",
    "\n",
    "----"
   ]
  },
  {
   "cell_type": "markdown",
   "metadata": {},
   "source": [
    "### 行动1"
   ]
  },
  {
   "cell_type": "code",
   "execution_count": 16,
   "metadata": {
    "collapsed": true
   },
   "outputs": [],
   "source": [
    "import pandas as pd\n",
    "import numpy as np"
   ]
  },
  {
   "cell_type": "code",
   "execution_count": 17,
   "metadata": {
    "collapsed": true
   },
   "outputs": [],
   "source": [
    "X = rand.randint(0, 10, (4, 6))"
   ]
  },
  {
   "cell_type": "code",
   "execution_count": 20,
   "metadata": {},
   "outputs": [
    {
     "data": {
      "text/plain": [
       "array([[8, 0, 9, 2, 6, 3],\n",
       "       [8, 2, 4, 2, 6, 4],\n",
       "       [8, 6, 1, 3, 8, 1],\n",
       "       [9, 8, 9, 4, 1, 3]])"
      ]
     },
     "execution_count": 20,
     "metadata": {},
     "output_type": "execute_result"
    }
   ],
   "source": [
    "X"
   ]
  },
  {
   "cell_type": "code",
   "execution_count": 19,
   "metadata": {},
   "outputs": [
    {
     "data": {
      "text/plain": [
       "array([[8, 0, 1, 2, 1, 1],\n",
       "       [8, 2, 4, 2, 6, 3],\n",
       "       [8, 6, 9, 3, 6, 3],\n",
       "       [9, 8, 9, 4, 8, 4]])"
      ]
     },
     "execution_count": 19,
     "metadata": {},
     "output_type": "execute_result"
    }
   ],
   "source": [
    "# 将X按列排序\n",
    "np.sort(X, axis=0)"
   ]
  },
  {
   "cell_type": "markdown",
   "metadata": {},
   "source": [
    "`注意：用sort axis导致行和列的对应关系完全被打破！非常危险！`"
   ]
  },
  {
   "cell_type": "markdown",
   "metadata": {},
   "source": [
    "### 行动2"
   ]
  },
  {
   "cell_type": "code",
   "execution_count": 21,
   "metadata": {
    "collapsed": true
   },
   "outputs": [],
   "source": [
    "import pandas as pd\n",
    "import numpy as np\n",
    "py = pd.Series({'2017-06-26': 2, \n",
    "                '2017-06-27': 3.5, \n",
    "                '2017-06-28': 2, \n",
    "                '2017-06-29': 1, \n",
    "                '2017-06-30': 0, \n",
    "                '2017-07-01': 4, \n",
    "                '2017-07-02': 1})\n",
    "cost = pd.Series({'2017-06-26': 12, \n",
    "                '2017-06-27': 13.5, \n",
    "                '2017-06-28': 12, \n",
    "                '2017-06-29': 11, \n",
    "                '2017-06-30': 10, \n",
    "                '2017-07-01': 14, \n",
    "                '2017-07-02': 11})\n",
    "play = pd.Series({'2017-06-26': 4, \n",
    "                '2017-06-27': 7, \n",
    "                '2017-06-28': 4.5, \n",
    "                '2017-06-29': 2, \n",
    "                '2017-06-30': 4, \n",
    "                '2017-07-01': 6, \n",
    "                '2017-07-02': 3})"
   ]
  },
  {
   "cell_type": "code",
   "execution_count": 22,
   "metadata": {},
   "outputs": [
    {
     "data": {
      "text/plain": [
       "2017-06-26    2.0\n",
       "2017-06-27    3.5\n",
       "2017-06-28    2.0\n",
       "2017-06-29    1.0\n",
       "2017-06-30    0.0\n",
       "2017-07-01    4.0\n",
       "2017-07-02    1.0\n",
       "dtype: float64"
      ]
     },
     "execution_count": 22,
     "metadata": {},
     "output_type": "execute_result"
    }
   ],
   "source": [
    "py"
   ]
  },
  {
   "cell_type": "code",
   "execution_count": 23,
   "metadata": {},
   "outputs": [
    {
     "data": {
      "text/plain": [
       "array([ 0. ,  1. ,  1. ,  2. ,  2. ,  3.5,  4. ])"
      ]
     },
     "execution_count": 23,
     "metadata": {},
     "output_type": "execute_result"
    }
   ],
   "source": [
    "np.sort(py)"
   ]
  },
  {
   "cell_type": "markdown",
   "metadata": {},
   "source": [
    "问:array可以转为dataframe吗？\n",
    "\n",
    "答:array与series的关系比较亲"
   ]
  },
  {
   "cell_type": "code",
   "execution_count": 25,
   "metadata": {},
   "outputs": [
    {
     "data": {
      "text/plain": [
       "pandas.core.series.Series"
      ]
     },
     "execution_count": 25,
     "metadata": {},
     "output_type": "execute_result"
    }
   ],
   "source": [
    "type(py)"
   ]
  },
  {
   "cell_type": "markdown",
   "metadata": {},
   "source": [
    "问:dataframe可以直接进行排序吗？\n",
    "    \n",
    "答:\n",
    "1. dataframe似乎是存储为主,不适合做计算\n",
    "2. array或series更适合计算"
   ]
  },
  {
   "cell_type": "code",
   "execution_count": null,
   "metadata": {
    "collapsed": true
   },
   "outputs": [],
   "source": []
  }
 ],
 "metadata": {
  "kernelspec": {
   "display_name": "Python 3",
   "language": "python",
   "name": "python3"
  },
  "language_info": {
   "codemirror_mode": {
    "name": "ipython",
    "version": 3
   },
   "file_extension": ".py",
   "mimetype": "text/x-python",
   "name": "python",
   "nbconvert_exporter": "python",
   "pygments_lexer": "ipython3",
   "version": "3.6.1"
  }
 },
 "nbformat": 4,
 "nbformat_minor": 2
}
