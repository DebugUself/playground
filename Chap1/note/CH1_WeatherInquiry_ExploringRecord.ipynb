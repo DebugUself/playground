{
 "cells": [
  {
   "cell_type": "markdown",
   "metadata": {},
   "source": [
    "# CH1 天气查询"
   ]
  },
  {
   "cell_type": "markdown",
   "metadata": {},
   "source": [
    "## Task\n",
    "\n",
    "- 完成一个最简天气查询程序，运行在命令行界面，实现以下功能：\n",
    "\n",
    "    - 输入城市名，返回该城市的天气数据；\n",
    "    - 输入指令，打印帮助文档（一般使用 h 或 help）；\n",
    "    - 输入指令，退出程序的交互（一般使用 quit 或 exit）；\n",
    "    - 在退出程序之前，打印查询过的所有城市。"
   ]
  },
  {
   "cell_type": "markdown",
   "metadata": {},
   "source": [
    "## Think\n",
    "\n",
    "- 0.输入城市名，返回该城市的天气数据；\n",
    "    - [x] 0.1 打开文件\n",
    "        - with open(\"<filename>\") as f:\n",
    "    - [x] 0.2 读取文件内容\n",
    "        - f.read()\n",
    "        - f.readline()     \n",
    "    - [x] 0.3 将文件内容转化成字典\n",
    "        - str => list => dict\n",
    "        - 0.3.1 将一行信息转化成字典\n",
    "            - split()\n",
    "            - d[k]= v\n",
    "        - 0.3.2 将整个文本信息转化成字典\n",
    "            - for line in weather_file:\n",
    "    - [x] 0.4 查询互动与字典操作\n",
    "            - input()\n",
    "            - [(k,v)]= d.items()\n",
    "            - v = d.get(k)\n",
    "- [x] 1.帮助函数 help()\n",
    "- [x] 2.退出函数 quit()\n",
    "    - 2.1 输出的查询历史由字典换成文字\n",
    "- [x] 3.主体判断与调试 main()\n",
    "    "
   ]
  },
  {
   "cell_type": "markdown",
   "metadata": {},
   "source": [
    "## Action\n",
    "\n",
    "### 00 将 weather_info.txt 从 resource 复制到 project "
   ]
  },
  {
   "cell_type": "code",
   "execution_count": 19,
   "metadata": {},
   "outputs": [
    {
     "ename": "SyntaxError",
     "evalue": "invalid syntax (<ipython-input-19-910bc5036914>, line 1)",
     "output_type": "error",
     "traceback": [
      "\u001b[0;36m  File \u001b[0;32m\"<ipython-input-19-910bc5036914>\"\u001b[0;36m, line \u001b[0;32m1\u001b[0m\n\u001b[0;31m    $ cp weather_info.txt /Users/NBR-hugh/Documents/github.nibirong.com/Py101-004/Chap1/project\u001b[0m\n\u001b[0m    ^\u001b[0m\n\u001b[0;31mSyntaxError\u001b[0m\u001b[0;31m:\u001b[0m invalid syntax\n"
     ]
    }
   ],
   "source": [
    "$ cp weather_info.txt /Users/NBR-hugh/Documents/github.nibirong.com/Py101-004/Chap1/project"
   ]
  },
  {
   "cell_type": "markdown",
   "metadata": {},
   "source": [
    "### 01 创建脚本文件：weather_query.py\n",
    "\n",
    "### 02 打开文件 weather_info.txt,读取内容\n",
    "\n",
    "- [7. Input and Output — Python 3.6.2 documentation](https://docs.python.org/3.6/tutorial/inputoutput.html#reading-and-writing-files)\n",
    "    - 使用 **with** 自动关闭文件\n",
    "    - > It is good practice to use the **with** keyword when dealing with file objects.\n",
    "    - > If you’re not using the with keyword, then you should call f.close() to close the file and immediately free up any system resources used by it."
   ]
  },
  {
   "cell_type": "code",
   "execution_count": null,
   "metadata": {
    "collapsed": true
   },
   "outputs": [],
   "source": [
    "with open(\"weather_info.txt\") as weather_file:\n",
    "    file_data = weather_file.read()\n",
    "    print(file_data)\n",
    "\n",
    "# Results:\n",
    "#  北京,晴\n",
    "#  ..."
   ]
  },
  {
   "cell_type": "markdown",
   "metadata": {},
   "source": [
    "- E1:NameError: name 'weather_info' is not defined\n",
    "    - 错误原因:open() 内文件名应用\"\" 囊括\n",
    "    \n",
    "            ----> 1 with open(weather_info.txt) as weather_file:\n",
    "\n",
    "            NameError: name 'weather_info' is not defined\n"
   ]
  },
  {
   "cell_type": "markdown",
   "metadata": {},
   "source": [
    "### 03 将读取的 str 转化成 dict"
   ]
  },
  {
   "cell_type": "code",
   "execution_count": 21,
   "metadata": {},
   "outputs": [
    {
     "name": "stdout",
     "output_type": "stream",
     "text": [
      "['北京', '晴']\n",
      "{'北京': '晴'}\n"
     ]
    }
   ],
   "source": [
    "# 将一行信息转化成字典\n",
    "\n",
    "weather_dict = {}\n",
    "file_data = \"北京,晴\"\n",
    "\n",
    "file_list = file_data.split(\",\")\n",
    "print(file_list)\n",
    "\n",
    "weather_dict[file_list[0]] = file_list[1]\n",
    "print(weather_dict)\n",
    "\n",
    "# Results:\n",
    "# ['北京', '晴']\n",
    "# {'北京': '晴'}"
   ]
  },
  {
   "cell_type": "markdown",
   "metadata": {},
   "source": [
    "- E2: 非法字符错误(SyntaxError: invalid character in identifier)\n",
    "    - 错误原因:中文字符＝与英文字符= 的区别\n",
    "    - 措施:在 搜狗输入法 中设置 中文下使用英文标点,且其他输入法删除,从根源杜绝此类错误.\n",
    "\n",
    "          File \"<ipython-input-19-10e9ab98e624>\", line 5 \n",
    "            wearher_dict[\"北京\"]＝\"晴\"  \n",
    "                              ^ \n",
    "          SyntaxError: invalid character in identifier    "
   ]
  },
  {
   "cell_type": "code",
   "execution_count": null,
   "metadata": {
    "collapsed": true
   },
   "outputs": [],
   "source": [
    "# 将多行信息转化成字典\n",
    "\n",
    "weather_dict = {}\n",
    "\n",
    "with open(\"weather_info.txt\") as weather_file:\n",
    "    for line in weather_file:\n",
    "        file_list = line.split(\",\")\n",
    "        weather_dict[file_list[0]] = file_list[1]\n",
    "        \n",
    "print(weather_dict)\n",
    "\n",
    "# Results:\n",
    "# {'北京': '晴\\n', ....,'海淀': '晴\\n',}"
   ]
  },
  {
   "cell_type": "markdown",
   "metadata": {},
   "source": [
    "### 04 获取用户信息,对 dict 进行查询操作"
   ]
  },
  {
   "cell_type": "code",
   "execution_count": 32,
   "metadata": {
    "scrolled": true
   },
   "outputs": [
    {
     "name": "stdout",
     "output_type": "stream",
     "text": [
      "北京\n",
      "北京\n",
      "晴\n"
     ]
    }
   ],
   "source": [
    "# 获取用户信息,对 dict 进行查询操(Test)\n",
    "\n",
    "city = input()\n",
    "print(city)\n",
    "\n",
    "weather_dict = {'北京': '晴'}\n",
    "city_weather = weather_dict.get(city)\n",
    "print(city_weather) \n",
    "\n",
    "# Result:\n",
    "# 北京\n",
    "# 北京\n",
    "# 晴\n",
    "    "
   ]
  },
  {
   "cell_type": "code",
   "execution_count": 33,
   "metadata": {},
   "outputs": [
    {
     "name": "stdout",
     "output_type": "stream",
     "text": [
      "武汉\n",
      "武汉\n",
      "小雨\n",
      "\n"
     ]
    }
   ],
   "source": [
    "# 获取用户信息,对 dict 进行查询操(Real)\n",
    "\n",
    "weather_dict = {}\n",
    "\n",
    "with open(\"weather_info.txt\") as weather_file:\n",
    "    for line in weather_file:\n",
    "        file_list = line.split(\",\")\n",
    "        weather_dict[file_list[0]] = file_list[1]\n",
    "\n",
    "while True:\n",
    "    city = input()\n",
    "    print(city)\n",
    "\n",
    "    city_weather = weather_dict.get(city)\n",
    "    print(city_weather)\n",
    "    break"
   ]
  },
  {
   "cell_type": "markdown",
   "metadata": {},
   "source": [
    "### 05 帮助函数(help())"
   ]
  },
  {
   "cell_type": "code",
   "execution_count": 26,
   "metadata": {},
   "outputs": [
    {
     "name": "stdout",
     "output_type": "stream",
     "text": [
      "\n",
      "    - 输入城市名，返回该城市的天气数据;\n",
      "    - 输入指令 h or help，打印帮助文档;\n",
      "    - 输入指令 q or quit ，退出程序的交互;     \n",
      "    \n"
     ]
    }
   ],
   "source": [
    "def help():\n",
    "    print('''\n",
    "    - 输入城市名，返回该城市的天气数据;\n",
    "    - 输入指令 h or help，打印帮助文档;\n",
    "    - 输入指令 q or quit ，退出程序的交互;     \n",
    "    ''')\n",
    "\n",
    "if __name__ == '__main__':\n",
    "    help()"
   ]
  },
  {
   "cell_type": "markdown",
   "metadata": {},
   "source": [
    "### 06 退出函数 quit()"
   ]
  },
  {
   "cell_type": "code",
   "execution_count": 27,
   "metadata": {},
   "outputs": [
    {
     "name": "stdout",
     "output_type": "stream",
     "text": [
      "\n",
      "    正在退出程序...\n",
      "    感谢使用!\n",
      "    \n"
     ]
    },
    {
     "ename": "SystemExit",
     "evalue": "",
     "output_type": "error",
     "traceback": [
      "An exception has occurred, use %tb to see the full traceback.\n",
      "\u001b[0;31mSystemExit\u001b[0m\n"
     ]
    },
    {
     "name": "stderr",
     "output_type": "stream",
     "text": [
      "/Users/NBR-hugh/anaconda3/lib/python3.6/site-packages/IPython/core/interactiveshell.py:2889: UserWarning: To exit: use 'exit', 'quit', or Ctrl-D.\n",
      "  warn(\"To exit: use 'exit', 'quit', or Ctrl-D.\", stacklevel=1)\n"
     ]
    }
   ],
   "source": [
    "import sys\n",
    "from sys import exit \n",
    "def quit():\n",
    "    print('''\n",
    "    正在退出程序...\n",
    "    感谢使用!\n",
    "    ''')\n",
    "    exit()\n",
    "\n",
    "if __name__ == '__main__':\n",
    "    quit()"
   ]
  },
  {
   "cell_type": "markdown",
   "metadata": {},
   "source": [
    "### 07 主体判断与调试 main()"
   ]
  },
  {
   "cell_type": "code",
   "execution_count": null,
   "metadata": {
    "collapsed": true
   },
   "outputs": [],
   "source": [
    "import sys\n",
    "from sys import exit \n",
    "\n",
    "# 打开文件,将文件内容转化成字典(dict)\n",
    "def file_deal(filename):\n",
    "    weather_dict = {}\n",
    "    \n",
    "    with open(filename) as weather_file:\n",
    "        for line in weather_file:\n",
    "            file_list = line.split(\",\")\n",
    "            weather_dict[file_list[0]] = file_list[1]\n",
    "        \n",
    "        return weather_dict\n",
    "\n",
    "def weather_query(city,weather_dict,user_quiry_dict):\n",
    "    city_weather = weather_dict.get(city)\n",
    "    user_quiry_dict[city] = city_weather\n",
    "    print(user_quiry_dict)\n",
    "    print(city_weather)\n",
    "    \n",
    "    return city_weather,user_quiry_dict\n",
    "\n",
    "def quit(user_quiry_dict):\n",
    "    query_times = 0\n",
    "    print('您的查询历史如下:')\n",
    "    for i in user_quiry_dict.items():\n",
    "        query_times += 1\n",
    "        print('第 %d 次查询:' % query_times,i)\n",
    "\n",
    "    print('''\n",
    "    正在退出程序...\n",
    "    感谢使用!\n",
    "    ''')\n",
    "    exit()\n",
    "\n",
    "def help():\n",
    "    print('''\n",
    "    - 输入城市名，返回该城市的天气数据;\n",
    "    - 输入指令 h or help，打印帮助文档;\n",
    "    - 输入指令 q or quit ，退出程序的交互;     \n",
    "    ''')\n",
    "    \n",
    "def main():\n",
    "    print('''\n",
    "     # 天气查询小程序\n",
    "     \n",
    "     TIPS:\n",
    "     \n",
    "    - 输入中文城市名，返回该城市的天气数据;\n",
    "    - 输入指令 h or help，打印帮助文档;\n",
    "    - 输入指令 q or quit ，退出程序的交互;     \n",
    "    ''')\n",
    "\n",
    "    # 文件处理,得到天气字典\n",
    "    user_quiry_dict = {}\n",
    "    weather_dict = {}\n",
    "    filename = \"weather_info.txt\"\n",
    "    weather_dict = file_deal(filename)\n",
    "    \n",
    "    # 进入互动\n",
    "    while True:\n",
    "        #weather_dict = weather_dict\n",
    "        commond = input(\">\") # 接收用户信息\n",
    "\n",
    "        if commond == 'h' or commond == 'help':\n",
    "            help()\n",
    "        elif commond == 'q' or commond == 'quit':\n",
    "            quit(user_quiry_dict)\n",
    "        elif commond in weather_dict.keys():\n",
    "            city = commond\n",
    "            weather_query(city,weather_dict,user_quiry_dict)\n",
    "        else:\n",
    "            print (\"对不起,无该城市天气信息,请检查您的输入,或者查询其他城市!\")\n",
    "\n",
    "\n",
    "if __name__ == '__main__':\n",
    "    main()"
   ]
  },
  {
   "cell_type": "markdown",
   "metadata": {},
   "source": [
    "### 08 查询历史由字典转换成文字"
   ]
  },
  {
   "cell_type": "code",
   "execution_count": 29,
   "metadata": {
    "collapsed": true
   },
   "outputs": [],
   "source": [
    "def quit(user_quiry_dict):\n",
    "    query_times = 0\n",
    "    print('您的查询历史如下:')\n",
    "    for items in user_quiry_dict.items():\n",
    "        query_times += 1\n",
    "        print('第 %d 次查询:' % query_times,items[0],items[1])\n",
    "\n",
    "    print('''\n",
    "    正在退出程序...\n",
    "    感谢使用!\n",
    "    ''')\n",
    "    exit()"
   ]
  },
  {
   "cell_type": "markdown",
   "metadata": {},
   "source": [
    "## Code"
   ]
  },
  {
   "cell_type": "code",
   "execution_count": 34,
   "metadata": {},
   "outputs": [
    {
     "name": "stdout",
     "output_type": "stream",
     "text": [
      "\n",
      "     # 天气查询小程序\n",
      "     \n",
      "     TIPS:\n",
      "     \n",
      "    - 输入中文城市名，返回该城市的天气数据;\n",
      "    - 输入指令 h or help，打印帮助文档;\n",
      "    - 输入指令 q or quit ，退出程序的交互;     \n",
      "    \n",
      ">武汉\n",
      "武汉 小雨\n",
      "\n",
      ">杭州\n",
      "杭州 毛毛雨/细雨\n",
      "\n",
      ">毛里求斯\n",
      "对不起,无该城市天气信息,请检查您的输入,或者查询其他城市!\n",
      ">额2\n",
      "对不起,无该城市天气信息,请检查您的输入,或者查询其他城市!\n",
      ">h\n",
      "\n",
      "    - 输入城市名，返回该城市的天气数据;\n",
      "    - 输入指令 h or help，打印帮助文档;\n",
      "    - 输入指令 q or quit ，退出程序的交互;     \n",
      "    \n",
      ">q\n",
      "您的查询历史如下:\n",
      "第 1 次查询: 武汉 小雨\n",
      "\n",
      "第 2 次查询: 杭州 毛毛雨/细雨\n",
      "\n",
      "\n",
      "    正在退出程序...\n",
      "    感谢使用!\n",
      "    \n"
     ]
    },
    {
     "ename": "SystemExit",
     "evalue": "0",
     "output_type": "error",
     "traceback": [
      "An exception has occurred, use %tb to see the full traceback.\n",
      "\u001b[0;31mSystemExit\u001b[0m\u001b[0;31m:\u001b[0m 0\n"
     ]
    },
    {
     "name": "stderr",
     "output_type": "stream",
     "text": [
      "/Users/NBR-hugh/anaconda3/lib/python3.6/site-packages/IPython/core/interactiveshell.py:2889: UserWarning: To exit: use 'exit', 'quit', or Ctrl-D.\n",
      "  warn(\"To exit: use 'exit', 'quit', or Ctrl-D.\", stacklevel=1)\n"
     ]
    }
   ],
   "source": [
    "#! /usr/bin/env python\n",
    "# -*- coding: utf-8 -*-\n",
    "\n",
    "import sys\n",
    "from sys import exit \n",
    "\n",
    "# 打开文件,将文件内容转化成字典(dict)\n",
    "def file_deal(filename,weather_dict):\n",
    "    with open(filename) as weather_file:\n",
    "        for line in weather_file:\n",
    "            file_list = line.split(\",\")\n",
    "            weather_dict[file_list[0]] = file_list[1]\n",
    "        \n",
    "    return weather_dict\n",
    "\n",
    "# 根据城市查询对应天气,并添加查询记录\n",
    "def weather_query(city,weather_dict,user_quiry_dict):\n",
    "    city_weather = weather_dict.get(city)\n",
    "    user_quiry_dict[city] = city_weather\n",
    "    print(city,city_weather)\n",
    "    \n",
    "    return city_weather,user_quiry_dict\n",
    "\n",
    "# 退出程序,显示查询历史\n",
    "def quit(user_quiry_dict):\n",
    "    query_times = 0\n",
    "    print('您的查询历史如下:')\n",
    "    for items in user_quiry_dict.items():\n",
    "        query_times += 1\n",
    "        print('第 %d 次查询:' % query_times,items[0],items[1])\n",
    "\n",
    "    print('''\n",
    "    正在退出程序...\n",
    "    感谢使用!\n",
    "    ''')\n",
    "    exit(0)\n",
    "\n",
    "# 打印帮助信息\n",
    "def help():\n",
    "    print('''\n",
    "    - 输入城市名，返回该城市的天气数据;\n",
    "    - 输入指令 h or help，打印帮助文档;\n",
    "    - 输入指令 q or quit ，退出程序的交互;     \n",
    "    ''')\n",
    "# 主运行程序,根据用户输入判断执行的信息\n",
    "def main():\n",
    "    print('''\n",
    "     # 天气查询小程序\n",
    "     \n",
    "     TIPS:\n",
    "     \n",
    "    - 输入中文城市名，返回该城市的天气数据;\n",
    "    - 输入指令 h or help，打印帮助文档;\n",
    "    - 输入指令 q or quit ，退出程序的交互;     \n",
    "    ''')\n",
    "\n",
    "    # 文件处理,得到天气字典\n",
    "    user_quiry_dict = {}\n",
    "    weather_dict = {}\n",
    "    filename = \"weather_info.txt\"\n",
    "    weather_dict = file_deal(filename,weather_dict)\n",
    "    \n",
    "    # 进入互动\n",
    "    while True:\n",
    "        #weather_dict = weather_dict\n",
    "        commond = input('>') # 接收用户信息\n",
    "\n",
    "        if commond == 'h' or commond == 'help':\n",
    "            help()\n",
    "        elif commond == 'q' or commond == 'quit':\n",
    "            quit(user_quiry_dict)\n",
    "        elif commond in weather_dict.keys():\n",
    "            city = commond\n",
    "            weather_query(city,weather_dict,user_quiry_dict)\n",
    "        else:\n",
    "            print (\"对不起,无该城市天气信息,请检查您的输入,或者查询其他城市!\")\n",
    "\n",
    "\n",
    "if __name__ == '__main__':\n",
    "    main()"
   ]
  },
  {
   "cell_type": "markdown",
   "metadata": {},
   "source": [
    "## Error\n",
    "\n",
    "#### E1: 命名错误\n",
    "- NameError: name 'weather_info' is not defined\n",
    "    - 错误原因:open() 内文件名应用\"\" 囊括\n",
    "    \n",
    "            ----> 1 with open(weather_info.txt) as weather_file:\n",
    "\n",
    "            NameError: name 'weather_info' is not defined\n",
    "\n",
    "\n",
    "#### E2: 非法字符错误\n",
    "- SyntaxError: invalid character in identifier\n",
    "    - 错误原因:中文字符＝与英文字符= 的区别\n",
    "    - 措施:在 搜狗输入法 中设置 中文下使用英文标点,且其他输入法删除,从根源杜绝此类错误.\n",
    "\n",
    "          File \"<ipython-input-19-10e9ab98e624>\", line 5 \n",
    "            wearher_dict[\"北京\"]＝\"晴\"  \n",
    "                              ^ \n",
    "          SyntaxError: invalid character in identifier    "
   ]
  },
  {
   "cell_type": "markdown",
   "metadata": {},
   "source": [
    "## Keypoint\n",
    "\n",
    "- dict\n",
    "    - [4. Built-in Types — Python 3.6.2 documentation](https://docs.python.org/3/library/stdtypes.html#typesmapping)\n",
    "    > an unordered set of key: value pair\n",
    "    - dict.get(key) = value\n",
    "    - dict.iterms() \n",
    "        - key:value pairs\n",
    "    \n",
    "- file\n",
    "    - [7. Input and Output — Python 3.6.2 documentation](chrome-extension://klbibkeccnjlkjkiokjodocebajanakg/suspended.html#ttl=7.%20Input%20and%20Output%20%E2%80%94%20Python%203.6.2%20documentation&uri=https://docs.python.org/3.6/tutorial/inputoutput.html#reading-and-writing-files)\n",
    "    - with open(\"<filename>\") as f:\n",
    "    - f.read()\n",
    "    - f.readline()\n",
    "    - for line in f:"
   ]
  },
  {
   "cell_type": "markdown",
   "metadata": {},
   "source": [
    "## TimeLog\n",
    "\n",
    "- 170815 1h30min 任务摘要&功能分析& JpNB 操作调试\n",
    "- 170815 30min 字符串字典转化\n",
    "- 170815 20min 查询互动与字典操作\n",
    "- 170815 1h40min 主体函数与整体调试"
   ]
  }
 ],
 "metadata": {
  "kernelspec": {
   "display_name": "Python 3",
   "language": "python",
   "name": "python3"
  },
  "language_info": {
   "codemirror_mode": {
    "name": "ipython",
    "version": 3
   },
   "file_extension": ".py",
   "mimetype": "text/x-python",
   "name": "python",
   "nbconvert_exporter": "python",
   "pygments_lexer": "ipython3",
   "version": "3.6.1"
  }
 },
 "nbformat": 4,
 "nbformat_minor": 2
}
