{
 "cells": [
  {
   "cell_type": "markdown",
   "metadata": {
    "toc": "true"
   },
   "source": [
    "# Table of Contents\n",
    " <p><div class=\"lev1 toc-item\"><a href=\"#CH1-天气查询\" data-toc-modified-id=\"CH1-天气查询-1\"><span class=\"toc-item-num\">1&nbsp;&nbsp;</span>CH1 天气查询</a></div><div class=\"lev2 toc-item\"><a href=\"#Task\" data-toc-modified-id=\"Task-11\"><span class=\"toc-item-num\">1.1&nbsp;&nbsp;</span>Task</a></div><div class=\"lev2 toc-item\"><a href=\"#Think\" data-toc-modified-id=\"Think-12\"><span class=\"toc-item-num\">1.2&nbsp;&nbsp;</span>Think</a></div><div class=\"lev3 toc-item\"><a href=\"#v1.0\" data-toc-modified-id=\"v1.0-121\"><span class=\"toc-item-num\">1.2.1&nbsp;&nbsp;</span>v1.0</a></div><div class=\"lev3 toc-item\"><a href=\"#v1.1\" data-toc-modified-id=\"v1.1-122\"><span class=\"toc-item-num\">1.2.2&nbsp;&nbsp;</span>v1.1</a></div><div class=\"lev2 toc-item\"><a href=\"#Action\" data-toc-modified-id=\"Action-13\"><span class=\"toc-item-num\">1.3&nbsp;&nbsp;</span>Action</a></div><div class=\"lev3 toc-item\"><a href=\"#00-将-weather_info.txt-从-resource-复制到-project\" data-toc-modified-id=\"00-将-weather_info.txt-从-resource-复制到-project-131\"><span class=\"toc-item-num\">1.3.1&nbsp;&nbsp;</span>00 将 weather_info.txt 从 resource 复制到 project</a></div><div class=\"lev3 toc-item\"><a href=\"#01-创建脚本文件：weather_query.py\" data-toc-modified-id=\"01-创建脚本文件：weather_query.py-132\"><span class=\"toc-item-num\">1.3.2&nbsp;&nbsp;</span>01 创建脚本文件：weather_query.py</a></div><div class=\"lev3 toc-item\"><a href=\"#02-打开文件-weather_info.txt,读取内容\" data-toc-modified-id=\"02-打开文件-weather_info.txt,读取内容-133\"><span class=\"toc-item-num\">1.3.3&nbsp;&nbsp;</span>02 打开文件 weather_info.txt,读取内容</a></div><div class=\"lev3 toc-item\"><a href=\"#03-将读取的-str-转化成-dict\" data-toc-modified-id=\"03-将读取的-str-转化成-dict-134\"><span class=\"toc-item-num\">1.3.4&nbsp;&nbsp;</span>03 将读取的 str 转化成 dict</a></div><div class=\"lev3 toc-item\"><a href=\"#04-获取用户信息,对-dict-进行查询操作\" data-toc-modified-id=\"04-获取用户信息,对-dict-进行查询操作-135\"><span class=\"toc-item-num\">1.3.5&nbsp;&nbsp;</span>04 获取用户信息,对 dict 进行查询操作</a></div><div class=\"lev3 toc-item\"><a href=\"#05-帮助函数(help())\" data-toc-modified-id=\"05-帮助函数(help())-136\"><span class=\"toc-item-num\">1.3.6&nbsp;&nbsp;</span>05 帮助函数(help())</a></div><div class=\"lev3 toc-item\"><a href=\"#06-退出函数-quit()\" data-toc-modified-id=\"06-退出函数-quit()-137\"><span class=\"toc-item-num\">1.3.7&nbsp;&nbsp;</span>06 退出函数 quit()</a></div><div class=\"lev3 toc-item\"><a href=\"#07-主体判断与调试-main()\" data-toc-modified-id=\"07-主体判断与调试-main()-138\"><span class=\"toc-item-num\">1.3.8&nbsp;&nbsp;</span>07 主体判断与调试 main()</a></div><div class=\"lev3 toc-item\"><a href=\"#08-查询历史由字典转换成文字\" data-toc-modified-id=\"08-查询历史由字典转换成文字-139\"><span class=\"toc-item-num\">1.3.9&nbsp;&nbsp;</span>08 查询历史由字典转换成文字</a></div><div class=\"lev2 toc-item\"><a href=\"#Code_v1.0\" data-toc-modified-id=\"Code_v1.0-14\"><span class=\"toc-item-num\">1.4&nbsp;&nbsp;</span>Code_v1.0</a></div><div class=\"lev2 toc-item\"><a href=\"#Improve-v1.1\" data-toc-modified-id=\"Improve-v1.1-15\"><span class=\"toc-item-num\">1.5&nbsp;&nbsp;</span>Improve v1.1</a></div><div class=\"lev3 toc-item\"><a href=\"#真正提升性能节省内存的代码\" data-toc-modified-id=\"真正提升性能节省内存的代码-151\"><span class=\"toc-item-num\">1.5.1&nbsp;&nbsp;</span>真正提升性能节省内存的代码</a></div><div class=\"lev2 toc-item\"><a href=\"#Error\" data-toc-modified-id=\"Error-16\"><span class=\"toc-item-num\">1.6&nbsp;&nbsp;</span>Error</a></div><div class=\"lev4 toc-item\"><a href=\"#E1:-命名错误\" data-toc-modified-id=\"E1:-命名错误-1601\"><span class=\"toc-item-num\">1.6.0.1&nbsp;&nbsp;</span>E1: 命名错误</a></div><div class=\"lev4 toc-item\"><a href=\"#E2:-非法字符错误\" data-toc-modified-id=\"E2:-非法字符错误-1602\"><span class=\"toc-item-num\">1.6.0.2&nbsp;&nbsp;</span>E2: 非法字符错误</a></div><div class=\"lev2 toc-item\"><a href=\"#Keypoint\" data-toc-modified-id=\"Keypoint-17\"><span class=\"toc-item-num\">1.7&nbsp;&nbsp;</span>Keypoint</a></div><div class=\"lev2 toc-item\"><a href=\"#TimeLog\" data-toc-modified-id=\"TimeLog-18\"><span class=\"toc-item-num\">1.8&nbsp;&nbsp;</span>TimeLog</a></div>"
   ]
  },
  {
   "cell_type": "markdown",
   "metadata": {},
   "source": [
    "# CH1 天气查询"
   ]
  },
  {
   "cell_type": "markdown",
   "metadata": {},
   "source": [
    "## Task\n",
    "\n",
    "- 完成一个最简天气查询程序，运行在命令行界面，实现以下功能：\n",
    "\n",
    "    - 输入城市名，返回该城市的天气数据；\n",
    "    - 输入指令，打印帮助文档（一般使用 h 或 help）；\n",
    "    - 输入指令，退出程序的交互（一般使用 quit 或 exit）；\n",
    "    - 在退出程序之前，打印查询过的所有城市。"
   ]
  },
  {
   "cell_type": "markdown",
   "metadata": {},
   "source": [
    "## Think\n",
    "\n",
    "### v1.0\n",
    "\n",
    "- [x] 0.输入城市名，返回该城市的天气数据；\n",
    "    - [x] 0.1 打开文件\n",
    "        - with open(\"<filename>\") as f:\n",
    "    - [x] 0.2 读取文件内容\n",
    "        - f.read()\n",
    "        - f.readline()     \n",
    "    - [x] 0.3 将文件内容转化成字典\n",
    "        - str => list => dict\n",
    "        - 0.3.1 将一行信息转化成字典\n",
    "            - split()\n",
    "            - d[k]= v\n",
    "        - 0.3.2 将整个文本信息转化成字典\n",
    "            - for line in weather_file:\n",
    "    - [x] 0.4 查询互动与字典操作\n",
    "            - input()\n",
    "            - [(k,v)]= d.items()\n",
    "            - v = d.get(k)\n",
    "- [x] 1.帮助函数 help()\n",
    "- [x] 2.退出函数 quit()\n",
    "    - 2.1 输出的查询历史由字典换成文字\n",
    "- [x] 3.主体判断与调试 main()\n",
    "\n",
    "\n",
    "### v1.1\n",
    "\n",
    "- [ ] Optimization:真正提升性能节省内存的代码\n",
    "    - 触发: [Scotting](https://github.com/AIHackers/Py101-004/issues/42#issuecomment-322388219)\n",
    "    - 探索记录:在[WeatherInquiry_ExploringRecord.ipynb](https://github.com/NBR-hugh/Py101-004/blob/master/Chap1/note/CH1_WeatherInquiry_ExploringRecord.ipynb)中更新\n",
    "    - keypoint\n",
    "        - 标准库 csv\n",
    "            - [x]定义,功能\n",
    "            - [x]示例代码解读\n",
    "            - [x]参数含义\n",
    "            - [x]reader() 与 writer() 用法\n",
    "            - [x]与 file.read 的比较(参考@ Xiami)\n",
    "        - collection\n",
    "            - [x]定义,功能\n",
    "            - [x]示例代码解读\n",
    "            - [x]主要用法\n",
    "            - [?]对读写的应用\n",
    "        - python 性能判定\n",
    "            - [ ]程序性能有哪些判断指标?\n",
    "            - [ ]判断方法?\n",
    "            - [ ]优化方法?\n"
   ]
  },
  {
   "cell_type": "markdown",
   "metadata": {},
   "source": [
    "## Action\n",
    "\n",
    "### 00 将 weather_info.txt 从 resource 复制到 project "
   ]
  },
  {
   "cell_type": "code",
   "execution_count": 19,
   "metadata": {},
   "outputs": [
    {
     "ename": "SyntaxError",
     "evalue": "invalid syntax (<ipython-input-19-910bc5036914>, line 1)",
     "output_type": "error",
     "traceback": [
      "\u001b[0;36m  File \u001b[0;32m\"<ipython-input-19-910bc5036914>\"\u001b[0;36m, line \u001b[0;32m1\u001b[0m\n\u001b[0;31m    $ cp weather_info.txt /Users/NBR-hugh/Documents/github.nibirong.com/Py101-004/Chap1/project\u001b[0m\n\u001b[0m    ^\u001b[0m\n\u001b[0;31mSyntaxError\u001b[0m\u001b[0;31m:\u001b[0m invalid syntax\n"
     ]
    }
   ],
   "source": [
    "$ cp weather_info.txt /Users/NBR-hugh/Documents/github.nibirong.com/Py101-004/Chap1/project"
   ]
  },
  {
   "cell_type": "markdown",
   "metadata": {},
   "source": [
    "### 01 创建脚本文件：weather_query.py\n",
    "\n",
    "### 02 打开文件 weather_info.txt,读取内容\n",
    "\n",
    "- [7. Input and Output — Python 3.6.2 documentation](https://docs.python.org/3.6/tutorial/inputoutput.html#reading-and-writing-files)\n",
    "    - 使用 **with** 自动关闭文件\n",
    "    - > It is good practice to use the **with** keyword when dealing with file objects.\n",
    "    - > If you’re not using the with keyword, then you should call f.close() to close the file and immediately free up any system resources used by it."
   ]
  },
  {
   "cell_type": "code",
   "execution_count": null,
   "metadata": {
    "collapsed": true
   },
   "outputs": [],
   "source": [
    "with open(\"weather_info.txt\") as weather_file:\n",
    "    file_data = weather_file.read()\n",
    "    print(file_data)\n",
    "\n",
    "# Results:\n",
    "#  北京,晴\n",
    "#  ..."
   ]
  },
  {
   "cell_type": "markdown",
   "metadata": {},
   "source": [
    "- E1:NameError: name 'weather_info' is not defined\n",
    "    - 错误原因:open() 内文件名应用\"\" 囊括\n",
    "    \n",
    "            ----> 1 with open(weather_info.txt) as weather_file:\n",
    "\n",
    "            NameError: name 'weather_info' is not defined\n"
   ]
  },
  {
   "cell_type": "markdown",
   "metadata": {},
   "source": [
    "### 03 将读取的 str 转化成 dict"
   ]
  },
  {
   "cell_type": "code",
   "execution_count": 21,
   "metadata": {},
   "outputs": [
    {
     "name": "stdout",
     "output_type": "stream",
     "text": [
      "['北京', '晴']\n",
      "{'北京': '晴'}\n"
     ]
    }
   ],
   "source": [
    "# 将一行信息转化成字典\n",
    "\n",
    "weather_dict = {}\n",
    "file_data = \"北京,晴\"\n",
    "\n",
    "file_list = file_data.split(\",\")\n",
    "print(file_list)\n",
    "\n",
    "weather_dict[file_list[0]] = file_list[1]\n",
    "print(weather_dict)\n",
    "\n",
    "# Results:\n",
    "# ['北京', '晴']\n",
    "# {'北京': '晴'}"
   ]
  },
  {
   "cell_type": "markdown",
   "metadata": {},
   "source": [
    "- E2: 非法字符错误(SyntaxError: invalid character in identifier)\n",
    "    - 错误原因:中文字符＝与英文字符= 的区别\n",
    "    - 措施:在 搜狗输入法 中设置 中文下使用英文标点,且其他输入法删除,从根源杜绝此类错误.\n",
    "\n",
    "          File \"<ipython-input-19-10e9ab98e624>\", line 5 \n",
    "            wearher_dict[\"北京\"]＝\"晴\"  \n",
    "                              ^ \n",
    "          SyntaxError: invalid character in identifier    "
   ]
  },
  {
   "cell_type": "code",
   "execution_count": null,
   "metadata": {
    "collapsed": true
   },
   "outputs": [],
   "source": [
    "# 将多行信息转化成字典\n",
    "\n",
    "weather_dict = {}\n",
    "\n",
    "with open(\"weather_info.txt\") as weather_file:\n",
    "    for line in weather_file:\n",
    "        file_list = line.split(\",\")\n",
    "        weather_dict[file_list[0]] = file_list[1]\n",
    "        \n",
    "print(weather_dict)\n",
    "\n",
    "# Results:\n",
    "# {'北京': '晴\\n', ....,'海淀': '晴\\n',}"
   ]
  },
  {
   "cell_type": "markdown",
   "metadata": {},
   "source": [
    "### 04 获取用户信息,对 dict 进行查询操作"
   ]
  },
  {
   "cell_type": "code",
   "execution_count": 32,
   "metadata": {
    "scrolled": true
   },
   "outputs": [
    {
     "name": "stdout",
     "output_type": "stream",
     "text": [
      "北京\n",
      "北京\n",
      "晴\n"
     ]
    }
   ],
   "source": [
    "# 获取用户信息,对 dict 进行查询操(Test)\n",
    "\n",
    "city = input()\n",
    "print(city)\n",
    "\n",
    "weather_dict = {'北京': '晴'}\n",
    "city_weather = weather_dict.get(city)\n",
    "print(city_weather) \n",
    "\n",
    "# Result:\n",
    "# 北京\n",
    "# 北京\n",
    "# 晴\n",
    "    "
   ]
  },
  {
   "cell_type": "code",
   "execution_count": 33,
   "metadata": {},
   "outputs": [
    {
     "name": "stdout",
     "output_type": "stream",
     "text": [
      "武汉\n",
      "武汉\n",
      "小雨\n",
      "\n"
     ]
    }
   ],
   "source": [
    "# 获取用户信息,对 dict 进行查询操(Real)\n",
    "\n",
    "weather_dict = {}\n",
    "\n",
    "with open(\"weather_info.txt\") as weather_file:\n",
    "    for line in weather_file:\n",
    "        file_list = line.split(\",\")\n",
    "        weather_dict[file_list[0]] = file_list[1]\n",
    "\n",
    "while True:\n",
    "    city = input()\n",
    "    print(city)\n",
    "\n",
    "    city_weather = weather_dict.get(city)\n",
    "    print(city_weather)\n",
    "    break"
   ]
  },
  {
   "cell_type": "markdown",
   "metadata": {},
   "source": [
    "### 05 帮助函数(help())"
   ]
  },
  {
   "cell_type": "code",
   "execution_count": 26,
   "metadata": {},
   "outputs": [
    {
     "name": "stdout",
     "output_type": "stream",
     "text": [
      "\n",
      "    - 输入城市名，返回该城市的天气数据;\n",
      "    - 输入指令 h or help，打印帮助文档;\n",
      "    - 输入指令 q or quit ，退出程序的交互;     \n",
      "    \n"
     ]
    }
   ],
   "source": [
    "def help():\n",
    "    print('''\n",
    "    - 输入城市名，返回该城市的天气数据;\n",
    "    - 输入指令 h or help，打印帮助文档;\n",
    "    - 输入指令 q or quit ，退出程序的交互;     \n",
    "    ''')\n",
    "\n",
    "if __name__ == '__main__':\n",
    "    help()"
   ]
  },
  {
   "cell_type": "markdown",
   "metadata": {},
   "source": [
    "### 06 退出函数 quit()"
   ]
  },
  {
   "cell_type": "code",
   "execution_count": 27,
   "metadata": {},
   "outputs": [
    {
     "name": "stdout",
     "output_type": "stream",
     "text": [
      "\n",
      "    正在退出程序...\n",
      "    感谢使用!\n",
      "    \n"
     ]
    },
    {
     "ename": "SystemExit",
     "evalue": "",
     "output_type": "error",
     "traceback": [
      "An exception has occurred, use %tb to see the full traceback.\n",
      "\u001b[0;31mSystemExit\u001b[0m\n"
     ]
    },
    {
     "name": "stderr",
     "output_type": "stream",
     "text": [
      "/Users/NBR-hugh/anaconda3/lib/python3.6/site-packages/IPython/core/interactiveshell.py:2889: UserWarning: To exit: use 'exit', 'quit', or Ctrl-D.\n",
      "  warn(\"To exit: use 'exit', 'quit', or Ctrl-D.\", stacklevel=1)\n"
     ]
    }
   ],
   "source": [
    "import sys\n",
    "from sys import exit \n",
    "def quit():\n",
    "    print('''\n",
    "    正在退出程序...\n",
    "    感谢使用!\n",
    "    ''')\n",
    "    exit()\n",
    "\n",
    "if __name__ == '__main__':\n",
    "    quit()"
   ]
  },
  {
   "cell_type": "markdown",
   "metadata": {},
   "source": [
    "### 07 主体判断与调试 main()"
   ]
  },
  {
   "cell_type": "code",
   "execution_count": null,
   "metadata": {
    "collapsed": true
   },
   "outputs": [],
   "source": [
    "import sys\n",
    "from sys import exit \n",
    "\n",
    "# 打开文件,将文件内容转化成字典(dict)\n",
    "def file_deal(filename):\n",
    "    weather_dict = {}\n",
    "    \n",
    "    with open(filename) as weather_file:\n",
    "        for line in weather_file:\n",
    "            file_list = line.split(\",\")\n",
    "            weather_dict[file_list[0]] = file_list[1]\n",
    "        \n",
    "        return weather_dict\n",
    "\n",
    "def weather_query(city,weather_dict,user_quiry_dict):\n",
    "    city_weather = weather_dict.get(city)\n",
    "    user_quiry_dict[city] = city_weather\n",
    "    print(user_quiry_dict)\n",
    "    print(city_weather)\n",
    "    \n",
    "    return city_weather,user_quiry_dict\n",
    "\n",
    "def quit(user_quiry_dict):\n",
    "    query_times = 0\n",
    "    print('您的查询历史如下:')\n",
    "    for i in user_quiry_dict.items():\n",
    "        query_times += 1\n",
    "        print('第 %d 次查询:' % query_times,i)\n",
    "\n",
    "    print('''\n",
    "    正在退出程序...\n",
    "    感谢使用!\n",
    "    ''')\n",
    "    exit()\n",
    "\n",
    "def help():\n",
    "    print('''\n",
    "    - 输入城市名，返回该城市的天气数据;\n",
    "    - 输入指令 h or help，打印帮助文档;\n",
    "    - 输入指令 q or quit ，退出程序的交互;     \n",
    "    ''')\n",
    "    \n",
    "def main():\n",
    "    print('''\n",
    "     # 天气查询小程序\n",
    "     \n",
    "     TIPS:\n",
    "     \n",
    "    - 输入中文城市名，返回该城市的天气数据;\n",
    "    - 输入指令 h or help，打印帮助文档;\n",
    "    - 输入指令 q or quit ，退出程序的交互;     \n",
    "    ''')\n",
    "\n",
    "    # 文件处理,得到天气字典\n",
    "    user_quiry_dict = {}\n",
    "    weather_dict = {}\n",
    "    filename = \"weather_info.txt\"\n",
    "    weather_dict = file_deal(filename)\n",
    "    \n",
    "    # 进入互动\n",
    "    while True:\n",
    "        #weather_dict = weather_dict\n",
    "        commond = input(\">\") # 接收用户信息\n",
    "\n",
    "        if commond == 'h' or commond == 'help':\n",
    "            help()\n",
    "        elif commond == 'q' or commond == 'quit':\n",
    "            quit(user_quiry_dict)\n",
    "        elif commond in weather_dict.keys():\n",
    "            city = commond\n",
    "            weather_query(city,weather_dict,user_quiry_dict)\n",
    "        else:\n",
    "            print (\"对不起,无该城市天气信息,请检查您的输入,或者查询其他城市!\")\n",
    "\n",
    "\n",
    "if __name__ == '__main__':\n",
    "    main()"
   ]
  },
  {
   "cell_type": "markdown",
   "metadata": {},
   "source": [
    "### 08 查询历史由字典转换成文字"
   ]
  },
  {
   "cell_type": "code",
   "execution_count": 29,
   "metadata": {
    "collapsed": true
   },
   "outputs": [],
   "source": [
    "def quit(user_quiry_dict):\n",
    "    query_times = 0\n",
    "    print('您的查询历史如下:')\n",
    "    for items in user_quiry_dict.items():\n",
    "        query_times += 1\n",
    "        print('第 %d 次查询:' % query_times,items[0],items[1])\n",
    "\n",
    "    print('''\n",
    "    正在退出程序...\n",
    "    感谢使用!\n",
    "    ''')\n",
    "    exit()"
   ]
  },
  {
   "cell_type": "markdown",
   "metadata": {},
   "source": [
    "## Code_v1.0"
   ]
  },
  {
   "cell_type": "code",
   "execution_count": 34,
   "metadata": {},
   "outputs": [
    {
     "name": "stdout",
     "output_type": "stream",
     "text": [
      "\n",
      "     # 天气查询小程序\n",
      "     \n",
      "     TIPS:\n",
      "     \n",
      "    - 输入中文城市名，返回该城市的天气数据;\n",
      "    - 输入指令 h or help，打印帮助文档;\n",
      "    - 输入指令 q or quit ，退出程序的交互;     \n",
      "    \n",
      ">武汉\n",
      "武汉 小雨\n",
      "\n",
      ">杭州\n",
      "杭州 毛毛雨/细雨\n",
      "\n",
      ">毛里求斯\n",
      "对不起,无该城市天气信息,请检查您的输入,或者查询其他城市!\n",
      ">额2\n",
      "对不起,无该城市天气信息,请检查您的输入,或者查询其他城市!\n",
      ">h\n",
      "\n",
      "    - 输入城市名，返回该城市的天气数据;\n",
      "    - 输入指令 h or help，打印帮助文档;\n",
      "    - 输入指令 q or quit ，退出程序的交互;     \n",
      "    \n",
      ">q\n",
      "您的查询历史如下:\n",
      "第 1 次查询: 武汉 小雨\n",
      "\n",
      "第 2 次查询: 杭州 毛毛雨/细雨\n",
      "\n",
      "\n",
      "    正在退出程序...\n",
      "    感谢使用!\n",
      "    \n"
     ]
    },
    {
     "ename": "SystemExit",
     "evalue": "0",
     "output_type": "error",
     "traceback": [
      "An exception has occurred, use %tb to see the full traceback.\n",
      "\u001b[0;31mSystemExit\u001b[0m\u001b[0;31m:\u001b[0m 0\n"
     ]
    },
    {
     "name": "stderr",
     "output_type": "stream",
     "text": [
      "/Users/NBR-hugh/anaconda3/lib/python3.6/site-packages/IPython/core/interactiveshell.py:2889: UserWarning: To exit: use 'exit', 'quit', or Ctrl-D.\n",
      "  warn(\"To exit: use 'exit', 'quit', or Ctrl-D.\", stacklevel=1)\n"
     ]
    }
   ],
   "source": [
    "#! /usr/bin/env python\n",
    "# -*- coding: utf-8 -*-\n",
    "\n",
    "import sys\n",
    "from sys import exit \n",
    "\n",
    "# 打开文件,将文件内容转化成字典(dict)\n",
    "def file_deal(filename,weather_dict):\n",
    "    with open(filename) as weather_file:\n",
    "        for line in weather_file:\n",
    "            file_list = line.split(\",\")\n",
    "            weather_dict[file_list[0]] = file_list[1]\n",
    "        \n",
    "    return weather_dict\n",
    "\n",
    "# 根据城市查询对应天气,并添加查询记录\n",
    "def weather_query(city,weather_dict,user_quiry_dict):\n",
    "    city_weather = weather_dict.get(city)\n",
    "    user_quiry_dict[city] = city_weather\n",
    "    print(city,city_weather)\n",
    "    \n",
    "    return city_weather,user_quiry_dict\n",
    "\n",
    "# 退出程序,显示查询历史\n",
    "def quit(user_quiry_dict):\n",
    "    query_times = 0\n",
    "    print('您的查询历史如下:')\n",
    "    for items in user_quiry_dict.items():\n",
    "        query_times += 1\n",
    "        print('第 %d 次查询:' % query_times,items[0],items[1])\n",
    "\n",
    "    print('''\n",
    "    正在退出程序...\n",
    "    感谢使用!\n",
    "    ''')\n",
    "    exit(0)\n",
    "\n",
    "# 打印帮助信息\n",
    "def help():\n",
    "    print('''\n",
    "    - 输入城市名，返回该城市的天气数据;\n",
    "    - 输入指令 h or help，打印帮助文档;\n",
    "    - 输入指令 q or quit ，退出程序的交互;     \n",
    "    ''')\n",
    "# 主运行程序,根据用户输入判断执行的信息\n",
    "def main():\n",
    "s\n",
    "\n",
    "if __name__ == '__main__':\n",
    "    main()"
   ]
  },
  {
   "cell_type": "markdown",
   "metadata": {},
   "source": [
    "## Improve v1.1"
   ]
  },
  {
   "cell_type": "markdown",
   "metadata": {},
   "source": [
    "###  真正提升性能节省内存的代码\n",
    "\n",
    "- 0 激发\n",
    "    - 0.0 [Scotting](https://github.com/AIHackers/Py101-004/issues/42#issuecomment-322388219)\n",
    "\n",
    "         > 楼上很多同学提到了性能问题，但目前我没有看到真正提升性能、节省内存的代码。给个提示，简单的办法是借助下标准库 csv 或 collections。\n",
    "\n",
    "    \n",
    "    - 0.1 学友 [thxiami对flie.read()与 csv.reader()的比较](https://github.com/thxiami/Py101-004/blob/master/Chap1/note/Log_1w.md#11-根据scottming教练建议采用csv模块)\n",
    "        - 自己也进行摸索\n",
    "    - 0.2 由此引申三个问题\n",
    "        - 如何使用 csv? 适用场景?\n",
    "        - 如何使用 collection? 适用场景?\n",
    "        - 如何判断程序的性能?\n",
    "            - 有哪些指标?\n",
    "            - 有哪些判断方法?\n",
    "            - 有哪些优化方向?\n",
    "    \n",
    "- 1 方案1 标准库 csv                      \n",
    "    - 1.0 搜索 \n",
    "        - `python standard library csv  ` \n",
    "        - => [CSV File Reading and Writing](https://docs.python.org/3/library/csv.html#examples)\n",
    "        - csv : Comma Separated Values\n",
    "            - 电子表格程序和数据库最常见的输入输出格式\n",
    "    - 1.1 概念\n",
    "        - [csv.reader()](https://docs.python.org/3/library/csv.html#csv.reader)\n",
    "            - 返回一个 **逐行历遍** 给定 `csvfile` 的 `reader object`\n",
    "        - [dialects](https://docs.python.org/3/library/csv.html#dialects-and-formatting-parameters)\n",
    "                * To make it easier to specify the format of input and output records, specific formatting parameters are grouped together into dialects. \n",
    "                * 为了更方便地指定输入和输出记录的格式，特定的格式参数组.\n",
    "                * [Excel,excel-tab,unix]\n",
    "        - `**fmtparams` \n",
    "                * The other optional fmtparams keyword arguments can be given to override individual formatting parameters in the current dialect. \n",
    "                * 其他可选的fmtparams关键字参数可以用来覆盖在当前dialect中的个别体格式参数。\n",
    "\n",
    "    - 1.2 使用\n",
    "        - 1.reader()\n",
    "        - 2.writer()"
   ]
  },
  {
   "cell_type": "code",
   "execution_count": 58,
   "metadata": {
    "ExecuteTime": {
     "end_time": "2017-08-19T04:34:40.980087Z",
     "start_time": "2017-08-19T04:34:40.947621Z"
    }
   },
   "outputs": [
    {
     "name": "stdout",
     "output_type": "stream",
     "text": [
      "['北京', '晴']\n",
      "['海淀', '晴']\n",
      "['朝阳', '晴']\n",
      "['北京,晴']\n",
      "['海淀,晴']\n",
      "['朝阳,晴']\n",
      "['北京', '晴']\n",
      "['海淀', '晴']\n",
      "['朝阳', '晴']\n"
     ]
    }
   ],
   "source": [
    "# 1. csv.reader(csvfile, dialect='excel', **fmtparams)\n",
    "\n",
    "## 1.1 simplest usage\n",
    "import csv\n",
    "with open('../project/weather_info.csv',newline='') as cf: #  if csvfile is file object,then must add 'newline='\n",
    "    reader = csv.reader(cf)    # delimiter 默认为\",\",quoting 默认为 \"QUOTE_MINIMAL\"\n",
    "    for row in reader:\n",
    "        print(row)\n",
    "\n",
    "    #=> \n",
    "    # ['北京', '晴']  # delimiter 默认为\",\" 因此以\",\"划分 list 中的元素\n",
    "    # ['海淀', '晴']\n",
    "    # ['朝阳', '晴']\n",
    "\n",
    "## 1.2 with an alternate format\n",
    "import csv\n",
    "with open('../project/weather_info.csv',newline='') as cf: #  if csvfile is file object,then must add 'newline='\n",
    "    reader = csv.reader(cf, delimiter=':', quoting=csv.QUOTE_NONE)\n",
    "    for row in reader:\n",
    "        print(row)\n",
    "\n",
    "    #=> \n",
    "    # ['北京,晴']  # delimiter=':',该行无 ':',因此该行整体为 list 的一个元素\n",
    "    # ['海淀,晴']\n",
    "    # ['朝阳,晴']\n",
    "\n",
    "### 1.2.1 alternate state\n",
    "    # delimiter\n",
    "        # - 划分符,csv 文件中一行被划分成一个 list,而list 中的元素用它来划分.\n",
    "        # - A one-character string used to separate fields.\n",
    "        # - 必须有1个字符,否则会报错\n",
    "        # - 默认为 ','\n",
    "\n",
    "    # quoting\n",
    "        # - 控制文本中由 writer 生成的引号的读取\n",
    "        # - Controls when quotes should be generated by the writer and recognised by the reader.\n",
    "        # - 默认为 'QUOTE_MINIMAL'\n",
    "        \n",
    "## 1.3 lightly advance advanced use — catching and reporting errors\n",
    "import csv, sys\n",
    "filename = '../project/weather_info.csv'\n",
    "with open(filename, newline='') as f:\n",
    "    reader = csv.reader(f)\n",
    "    try:                    # try: 试运行代码块\n",
    "        for row in reader:\n",
    "            print(row)\n",
    "    except csv.Error as e:  # except csv.Error:当检测到由任何函数引发的错误时触发\n",
    "        sys.exit('file {}, line {}: {}'.format(filename, reader.line_num, e)) # 程序退出,返回错误所在(文件名,代码行数,错误类型)的信息"
   ]
  },
  {
   "cell_type": "code",
   "execution_count": 54,
   "metadata": {
    "ExecuteTime": {
     "end_time": "2017-08-19T04:27:40.471977Z",
     "start_time": "2017-08-19T04:27:40.450915Z"
    }
   },
   "outputs": [
    {
     "name": "stdout",
     "output_type": "stream",
     "text": [
      "['Spam', 'Spam', 'Spam', 'Spam', 'Spam', 'Baked Beans']\n",
      "['Spam', 'Lovely Spam', 'Wonderful Spam', 'Spam', '1 2']\n"
     ]
    }
   ],
   "source": [
    "# 2. csv.writer(csvfile, dialect=’excel’, **fmtparams)\n",
    "\n",
    "## 2.1 simplest usage\n",
    "import csv\n",
    "with open('../project/weather_info.csv', 'w', newline='') as f:\n",
    "    writer = csv.writer(f)   # 执行 writer 会将原文件清空\n",
    "    writer.writerows(\"aabb\") # 多行输入\n",
    "    writer.writerow('aabb')  # 单行输入\n",
    "    \n",
    "    #=> \n",
    "    # a\n",
    "    # a\n",
    "    # b\n",
    "    # b\n",
    "    # \"a,a,b,b\"\n",
    "    \n",
    "    \n",
    "## 2.2 with an alternate format\n",
    "import csv\n",
    "with open('../project/weather_info.csv', 'w', newline='') as csvfile:\n",
    "    spamwriter = csv.writer(csvfile, delimiter=' ',\n",
    "                            quotechar='|', quoting=csv.QUOTE_MINIMAL)\n",
    "    spamwriter.writerow(['Spam'] * 5 + ['Baked Beans'])\n",
    "    spamwriter.writerow(['Spam', 'Lovely Spam', 'Wonderful Spam','Spam','1 2'])\n",
    "\n",
    "with open('../project/weather_info.csv',newline='') as cf: #  if csvfile is file object,then must add 'newline='\n",
    "    reader = csv.reader(cf, delimiter=' ', quotechar='|', quoting=csv.QUOTE_MINIMAL)\n",
    "    for row in reader:\n",
    "        print(row)\n",
    "    \n",
    "    # reader 和 writer 的参数( delimiter,quotechar,quoting)最好一致,得出的结果不会混乱,因此无特殊情况,默认是最方便的.\n",
    "\n",
    "    #=> \n",
    "    #writer():\n",
    "    # Spam Spam Spam Spam Spam |Baked Beans|\n",
    "    # Spam |Lovely Spam| |Wonderful Spam| Spam |1 2|\n",
    "    #reader():\n",
    "    # ['Spam', 'Spam', 'Spam', 'Spam', 'Spam', 'Baked Beans']\n",
    "    # ['Spam', 'Lovely Spam', 'Wonderful Spam', 'Spam', '1 2']"
   ]
  },
  {
   "cell_type": "markdown",
   "metadata": {},
   "source": [
    "- 2 方案2 collection\n",
    "    - 搜索\n",
    "        - `python collection`\n",
    "        - => [8.3. collections — Container datatypes — Python 3.6.2 documentation](https://docs.python.org/3/library/collections.html)\n",
    "        - 这个模块实现了专门的容器数据类型，它提供了Python通用内置容器: 字典,列表、集合和元组的替代方案。\n",
    "        - 也就是 dict, list, set,tuple 的升级版,更快更强.\n",
    "    - 适用场景\n",
    "        - namedtuple() \n",
    "            - `Point = namedtuple('Point', ['x', 'y'])`\n",
    "            - 名称与数组的对应关系\n",
    "            - 需要像类一样实例化`p = Point(11, y=22) \n",
    "            - 在处理csv 或 sqlite3 模块放回的数组时特别有帮助(比如多个维度的数据的处理,提取)\n",
    "        - deque\t\n",
    "            - 与 list 类比,更快的 appends 与 任一端的 pop\n",
    "            \n",
    "        - ChainMap\n",
    "            - 字典的组合,可以按优先级对多个字典搜寻操作\n",
    "        - Counter\n",
    "            - 以类似字典的方式进行数学运算\n",
    "            - 且内置方法转化成 list ,dict,set\n",
    "        - OrderedDict\n",
    "            - 有顺序的字典\n",
    "            - sort()\n",
    "            - 可以按 key值 的大小\n",
    "            - 可以按 字符长度\n",
    "        - defaultdict\n",
    "            - 利用 __miss__ 迭代时将同一个 key对应不同 value 映射到一起 \n",
    "            - 统计字符串中某个字母的出现次数\n",
    "            - 统计颜色对应的不同数字   \n",
    "        - UserDict,UserList,UserString\n",
    "            - 包装 DIct,List,string,不让数据暴露在外\n",
    "    - 名词\n",
    "        - factory function\n",
    "        - lambda\n",
    "    - 用法\n",
    "        - 与字典相关的方法\n",
    "            - ChainMap\n",
    "            - OrderDict\n",
    "            - defaultdict\n",
    "            - UserDict\n",
    "        - ? 似乎没有优化读或存的方法?"
   ]
  },
  {
   "cell_type": "markdown",
   "metadata": {
    "ExecuteTime": {
     "end_time": "2017-08-19T11:19:56.806809Z",
     "start_time": "2017-08-19T11:19:56.791196Z"
    }
   },
   "source": [
    "- 3 性能比较\n",
    "    - flie.read()| csv.reader()\n",
    "        - 发现@Xiami 同学的比较,自己进行了实验\n",
    "    - 程序性能有哪些判断指标?\n",
    "    - 有哪些判断方法?\n",
    "    - 优化提升程序性能?\n",
    "        - [PerformancePython - SciPy wiki dump](http://scipy.github.io/old-wiki/pages/PerformancePython)\n",
    "        - [PythonSpeed - Python Wiki](https://wiki.python.org/moin/PythonSpeed)"
   ]
  },
  {
   "cell_type": "code",
   "execution_count": 118,
   "metadata": {
    "ExecuteTime": {
     "end_time": "2017-08-19T12:16:15.205104Z",
     "start_time": "2017-08-19T12:16:07.361837Z"
    }
   },
   "outputs": [
    {
     "name": "stdout",
     "output_type": "stream",
     "text": [
      "file_deal duration:2.7428552910059807\n",
      "csv_file_deal:1.9345868680029525\n",
      "collection_file_deal:1.9345868680029525\n"
     ]
    }
   ],
   "source": [
    "# v1.0 file.read()\n",
    "def file_deal():\n",
    "    filename = \"../project/weather_info.csv\"\n",
    "    weather_dict = {}\n",
    "\n",
    "    with open(filename) as weather_file:\n",
    "        for line in weather_file:\n",
    "            file_list = line.split(\",\") # str=>list\n",
    "            weather_dict[file_list[0]] = file_list[1] # list=>dict\n",
    "    return weather_dict\n",
    "\n",
    "# v1.1 csv.reader()\n",
    "def csv_file_deal():\n",
    "    filename = \"../project/weather_info.csv\"\n",
    "    weather_dict = {}\n",
    "\n",
    "    with open(filename,newline = '') as weather_file:\n",
    "        reader = csv.reader(weather_file) \n",
    "        for k,v in reader:\n",
    "            weather_dict[k] = v\n",
    "    return weather_dict\n",
    "\n",
    "# test form @Xiami\n",
    "def test():\n",
    "    from timeit import timeit\n",
    "    t1 = timeit(file_deal, number=1000)\n",
    "    t2 = timeit(csv_file_deal, number=1000)\n",
    "    t3 = timeit(collection_file_deal, number=1000)\n",
    "    print(f\"file_deal duration:{t1}\")\n",
    "    print(f\"csv_file_deal:{t2}\")\n",
    "    print(f\"collection_file_deal:{t2}\")\n",
    "    \n",
    "if __name__ == '__main__':\n",
    "\n",
    "    test()\n"
   ]
  },
  {
   "cell_type": "markdown",
   "metadata": {},
   "source": [
    "## Error\n",
    "\n",
    "#### E1: 命名错误\n",
    "- NameError: name 'weather_info' is not defined\n",
    "    - 错误原因:open() 内文件名应用\"\" 囊括\n",
    "    \n",
    "            ----> 1 with open(weather_info.txt) as weather_file:\n",
    "\n",
    "            NameError: name 'weather_info' is not defined\n",
    "\n",
    "\n",
    "#### E2: 非法字符错误\n",
    "- SyntaxError: invalid character in identifier\n",
    "    - 错误原因:中文字符＝与英文字符= 的区别\n",
    "    - 措施:在 搜狗输入法 中设置 中文下使用英文标点,且其他输入法删除,从根源杜绝此类错误.\n",
    "\n",
    "          File \"<ipython-input-19-10e9ab98e624>\", line 5 \n",
    "            wearher_dict[\"北京\"]＝\"晴\"  \n",
    "                              ^ \n",
    "          SyntaxError: invalid character in identifier    "
   ]
  },
  {
   "cell_type": "markdown",
   "metadata": {},
   "source": [
    "## Keypoint\n",
    "\n",
    "- dict\n",
    "    - [4. Built-in Types — Python 3.6.2 documentation](https://docs.python.org/3/library/stdtypes.html#typesmapping)\n",
    "    > an unordered set of key: value pair\n",
    "    - dict.get(key) = value\n",
    "    - dict.iterms() \n",
    "        - key:value pairs\n",
    "    \n",
    "- file\n",
    "    - [7. Input and Output — Python 3.6.2 documentation](chrome-extension://klbibkeccnjlkjkiokjodocebajanakg/suspended.html#ttl=7.%20Input%20and%20Output%20%E2%80%94%20Python%203.6.2%20documentation&uri=https://docs.python.org/3.6/tutorial/inputoutput.html#reading-and-writing-files)\n",
    "    - with open(\"<filename>\") as f:\n",
    "    - f.read()\n",
    "    - f.readline()\n",
    "    - for line in f:\n",
    "    \n",
    "- csv\n",
    "    - csv.writer()\n",
    "    - csv.reader()\n",
    "        - delimiter\n",
    "        - quoteing\n",
    "        - quotechar\n",
    "- collections\n",
    "    - ChainMap\n",
    "    - OrderDict\n",
    "    - defaultdict\n",
    "    - UserDict\n",
    "    - ...\n",
    "\n",
    "- pythonSpeed\n",
    "    - [PerformancePython - SciPy wiki dump](http://scipy.github.io/old-wiki/pages/PerformancePython)\n",
    "    - [PythonSpeed - Python Wiki](https://wiki.python.org/moin/PythonSpeed)"
   ]
  },
  {
   "cell_type": "markdown",
   "metadata": {},
   "source": [
    "## TimeLog\n",
    "\n",
    "- 170815 \n",
    "    -  任务摘要&功能分析& JpNB 操作调试 `1h30min`\n",
    "    -  字符串字典转化                 `30min` \n",
    "    -  查询互动与字典操作              `20min` \n",
    "    -  主体函数与整体调试              `1h40min` \n",
    "- 170817 \n",
    "    - Improve: csv 文档细探       `1h`\n",
    "- 170818\n",
    "    - csv demo代码测试 ` 40m`\n",
    "    - 测试脚本运行时间  `45m`\n",
    "- 170819\n",
    "    - 确定笔记形式  `20m`\n",
    "    - 写 csv.read 的示例笔记 `40m`\n",
    "    - 研究 报错  `40m`\n",
    "    - csv探索完毕 `43m`\n",
    "    - 对比运行时间,程序性能的思考 `1h`\n",
    "    - collection,了解场景,理解 demo `40min`\n",
    "    - 撰写 colection 笔记, 搜索性能判定  `40min`"
   ]
  }
 ],
 "metadata": {
  "kernelspec": {
   "display_name": "Python 3",
   "language": "python",
   "name": "python3"
  },
  "language_info": {
   "codemirror_mode": {
    "name": "ipython",
    "version": 3
   },
   "file_extension": ".py",
   "mimetype": "text/x-python",
   "name": "python",
   "nbconvert_exporter": "python",
   "pygments_lexer": "ipython3",
   "version": "3.6.1"
  },
  "toc": {
   "colors": {
    "hover_highlight": "#DAA520",
    "navigate_num": "#000000",
    "navigate_text": "#333333",
    "running_highlight": "#FF0000",
    "selected_highlight": "#FFD700",
    "sidebar_border": "#EEEEEE",
    "wrapper_background": "#FFFFFF"
   },
   "moveMenuLeft": true,
   "nav_menu": {
    "height": "444px",
    "width": "252px"
   },
   "navigate_menu": true,
   "number_sections": true,
   "sideBar": true,
   "threshold": 4,
   "toc_cell": true,
   "toc_position": {
    "height": "824px",
    "left": "0px",
    "right": "20px",
    "top": "106px",
    "width": "235px"
   },
   "toc_section_display": "block",
   "toc_window_display": true,
   "widenNotebook": false
  }
 },
 "nbformat": 4,
 "nbformat_minor": 2
}
