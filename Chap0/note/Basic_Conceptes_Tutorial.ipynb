{
 "cells": [
  {
   "cell_type": "markdown",
   "metadata": {
    "toc": "true"
   },
   "source": [
    "# Table of Contents\n",
    " <p><div class=\"lev1 toc-item\"><a href=\"#基础概念\" data-toc-modified-id=\"基础概念-1\"><span class=\"toc-item-num\">1&nbsp;&nbsp;</span>基础概念</a></div><div class=\"lev2 toc-item\"><a href=\"#错误与异常\" data-toc-modified-id=\"错误与异常-11\"><span class=\"toc-item-num\">1.1&nbsp;&nbsp;</span>错误与异常</a></div>"
   ]
  },
  {
   "cell_type": "markdown",
   "metadata": {},
   "source": [
    "# 基础概念"
   ]
  },
  {
   "cell_type": "markdown",
   "metadata": {},
   "source": [
    "## 错误与异常\n",
    "\n",
    "- \"异常\"(exception)指是运行某个函数得到的错误,你的函数在遇到错误时就会\"引发\"(raise)一个\"异常\",然后你就要去\"处理\"(handle)这个异常.\n",
    "- 处理异常就是使用 `try` 与`except` 这两个关键字:\n",
    "    - 将试着运行的代码放入 `try` 中\n",
    "    - 将出错后要运行的代码放入 `except` 中\n"
   ]
  }
 ],
 "metadata": {
  "kernelspec": {
   "display_name": "Python 3",
   "language": "python",
   "name": "python3"
  },
  "language_info": {
   "codemirror_mode": {
    "name": "ipython",
    "version": 3
   },
   "file_extension": ".py",
   "mimetype": "text/x-python",
   "name": "python",
   "nbconvert_exporter": "python",
   "pygments_lexer": "ipython3",
   "version": "3.6.1"
  },
  "toc": {
   "colors": {
    "hover_highlight": "#DAA520",
    "navigate_num": "#000000",
    "navigate_text": "#333333",
    "running_highlight": "#FF0000",
    "selected_highlight": "#FFD700",
    "sidebar_border": "#EEEEEE",
    "wrapper_background": "#FFFFFF"
   },
   "moveMenuLeft": true,
   "nav_menu": {
    "height": "30px",
    "width": "252px"
   },
   "navigate_menu": true,
   "number_sections": true,
   "sideBar": true,
   "threshold": 4,
   "toc_cell": true,
   "toc_section_display": "block",
   "toc_window_display": true,
   "widenNotebook": false
  }
 },
 "nbformat": 4,
 "nbformat_minor": 2
}
