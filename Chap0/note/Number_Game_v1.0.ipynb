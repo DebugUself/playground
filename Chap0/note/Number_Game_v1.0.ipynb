{
 "cells": [
  {
   "cell_type": "markdown",
   "metadata": {},
   "source": [
    "##  Task3:猜数字游戏 "
   ]
  },
  {
   "cell_type": "markdown",
   "metadata": {},
   "source": [
    "### Demand\n",
    "\n",
    "- 程序随机生成一个 20 以内的数字，用户有 10 次机会猜测\n",
    "- 程序根据用户输入，给予一定提示（大了、小了、正确）\n",
    "- 猜对或用完 10 次机会，游戏结束 "
   ]
  },
  {
   "cell_type": "markdown",
   "metadata": {},
   "source": [
    "### Think\n",
    "\n",
    "- 机会计数函数\n",
    "    - chance_count()\n",
    "- 1~10次机会判断 \n",
    "    - for 循环\n",
    "- 大小比较函数\n",
    "    - number_compare()\n",
    "    - if... else 分支结构\n",
    "    - 随机数生产\n"
   ]
  },
  {
   "cell_type": "markdown",
   "metadata": {},
   "source": [
    "### Code"
   ]
  },
  {
   "cell_type": "code",
   "execution_count": null,
   "metadata": {
    "collapsed": true
   },
   "outputs": [],
   "source": [
    "import random\n",
    "import sys\n",
    "from sys import exit\n",
    "\n",
    "\n",
    "# 计算并提示玩家剩余的机会次数\n",
    "def chance_count(try_number):\n",
    "\n",
    "    chance_number = 10 - try_number\n",
    "    print (\"你还有 %d 次机会\" % chance_number)\n",
    "\n",
    "\n",
    "# 比较随机数与输入数的大小并给出提示\n",
    "def number_compare(random_number,input_number):\n",
    "\n",
    "    if random_number > input_number:\n",
    "        print (\"小了\")\n",
    "\n",
    "    elif random_number < input_number:\n",
    "        print (\"大了\")\n",
    "\n",
    "    elif random_number == input_number:\n",
    "        print (\"对了! Bye~\")\n",
    "        exit(0)\n",
    "\n",
    "    else:\n",
    "\n",
    "        print (\"发生了一些错误\")\n",
    "\n",
    "\n",
    "# 主运行程序\n",
    "def main(random_number):\n",
    "\n",
    "    try_number = 0\n",
    "\n",
    "    while True:\n",
    "        input_number = input(\"请输入您要猜测的数字:\")\n",
    "        input_number = int(input_number)\n",
    "\n",
    "        # 如果 尝试次数小雨10,则执行比较,计数,\n",
    "        if try_number < 9:\n",
    "            number_compare(random_number,input_number)\n",
    "            chance_count(try_number)\n",
    "            try_number += 1\n",
    "\n",
    "        elif try_number == 9:\n",
    "            print (\"对不起,机会已经用完\")\n",
    "            break\n",
    "\n",
    "        else:\n",
    "            print (\"发生错误\")\n",
    "            break\n",
    "            \n",
    "\n",
    "\n",
    "if __name__ == '__main__':\n",
    "    # 随机给出给[0,21)内的一个整数\n",
    "    random_number = random.randrange(21)\n",
    "\n",
    "    main(random_number)"
   ]
  },
  {
   "cell_type": "markdown",
   "metadata": {},
   "source": [
    "### Question\n",
    "\n",
    "- Q1:加入输入者输入的不是数字,如何捕捉这样的错误信息?\n",
    "    - 希望用 if 输出可读的报错信息\n",
    "    - 而不是这样的:"
   ]
  },
  {
   "cell_type": "code",
   "execution_count": null,
   "metadata": {
    "collapsed": true
   },
   "outputs": [],
   "source": [
    "        Traceback (most recent call last):\n",
    "          File \"Number_Game.py\", line 45, in <module>\n",
    "            main(random_number)\n",
    "          File \"Number_Game.py\", line 27, in main\n",
    "            input_number = int(input_number)\n",
    "        ValueError: invalid literal for int() with base 10: 'o'"
   ]
  },
  {
   "cell_type": "markdown",
   "metadata": {},
   "source": [
    "### Keypoint\n",
    "\n",
    "- 循环的不同应用\n",
    "    - for i in () 用于历遍\n",
    "    - while True 用于等待用户比较/决策"
   ]
  },
  {
   "cell_type": "markdown",
   "metadata": {},
   "source": [
    "### Reference\n",
    "\n",
    "- [9.6. random — Generate pseudo-random numbers — Python 3.6.2 documentation](https://docs.python.org/3/library/random.html#examples-and-recipes)"
   ]
  },
  {
   "cell_type": "markdown",
   "metadata": {},
   "source": [
    "### Timelog\n",
    "\n",
    "- 170814 20min 适应 JN;确定结构与变量命名\n",
    "- 170814 1h 调通程序"
   ]
  },
  {
   "cell_type": "markdown",
   "metadata": {
    "collapsed": true
   },
   "source": [
    "### Keypoint\n",
    "\n",
    "The while statement is used for repeated execution as long as an expression is true"
   ]
  }
 ],
 "metadata": {
  "kernelspec": {
   "display_name": "Python 3",
   "language": "python",
   "name": "python3"
  },
  "language_info": {
   "codemirror_mode": {
    "name": "ipython",
    "version": 3
   },
   "file_extension": ".py",
   "mimetype": "text/x-python",
   "name": "python",
   "nbconvert_exporter": "python",
   "pygments_lexer": "ipython3",
   "version": "3.6.1"
  }
 },
 "nbformat": 4,
 "nbformat_minor": 2
}
