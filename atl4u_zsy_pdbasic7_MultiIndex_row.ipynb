{
 "cells": [
  {
   "cell_type": "markdown",
   "metadata": {},
   "source": [
    "# 日期\n",
    "20170703\n",
    "\n",
    "# 目标\n",
    "- 对26w zsy的时间账单数据配备Index属性\n",
    "- 属性有2种\n",
    "  - py, cost, rd, git\n",
    "  - A, B\n",
    "- 制作multiIndex\n",
    "\n",
    "# 行动\n",
    "## 行动1\n",
    "- 输入原始index\n",
    "- 用MultiIndex处理index\n",
    "## 行动2\n",
    "- 输入原始data\n",
    "- 用series装data和index\n",
    "## 行动3\n",
    "\n",
    "# 经验\n",
    "- 总结: series(1维数据(random.randn) + MultiIndex(tuple))\n",
    "- 问题: Series(1d_data + multiindex_tuple)与dataframe这两种方案各自的局限性在于？"
   ]
  },
  {
   "cell_type": "code",
   "execution_count": null,
   "metadata": {
    "collapsed": true
   },
   "outputs": [],
   "source": []
  },
  {
   "cell_type": "code",
   "execution_count": 5,
   "metadata": {
    "collapsed": true
   },
   "outputs": [],
   "source": [
    "import pandas as pd\n",
    "import numpy as np"
   ]
  },
  {
   "cell_type": "code",
   "execution_count": 8,
   "metadata": {
    "collapsed": true
   },
   "outputs": [],
   "source": [
    "index = [('0py', 'A'), ('0py', 'B'),\n",
    "         ('1ce', 'A'), ('1ce', 'B'),\n",
    "         ('2rd', 'A'), ('2rd', 'B'),\n",
    "         ('3gf', 'A'), ('3gf', 'B')]"
   ]
  },
  {
   "cell_type": "code",
   "execution_count": 9,
   "metadata": {},
   "outputs": [
    {
     "data": {
      "text/plain": [
       "MultiIndex(levels=[['0py', '1ce', '2rd', '3gf'], ['A', 'B']],\n",
       "           labels=[[0, 0, 1, 1, 2, 2, 3, 3], [0, 1, 0, 1, 0, 1, 0, 1]])"
      ]
     },
     "execution_count": 9,
     "metadata": {},
     "output_type": "execute_result"
    }
   ],
   "source": [
    "index = pd.MultiIndex.from_tuples(index)\n",
    "index"
   ]
  },
  {
   "cell_type": "code",
   "execution_count": 17,
   "metadata": {},
   "outputs": [
    {
     "data": {
      "text/plain": [
       "array([ 0.99468378,  0.81656559,  0.08331328,  0.22583595,  0.00205612,\n",
       "        0.4780706 ,  0.33152713,  0.8940797 ])"
      ]
     },
     "execution_count": 17,
     "metadata": {},
     "output_type": "execute_result"
    }
   ],
   "source": [
    "data = np.random.rand(8)\n",
    "data"
   ]
  },
  {
   "cell_type": "code",
   "execution_count": 19,
   "metadata": {},
   "outputs": [
    {
     "data": {
      "text/plain": [
       "0py  A    0.994684\n",
       "     B    0.816566\n",
       "1ce  A    0.083313\n",
       "     B    0.225836\n",
       "2rd  A    0.002056\n",
       "     B    0.478071\n",
       "3gf  A    0.331527\n",
       "     B    0.894080\n",
       "dtype: float64"
      ]
     },
     "execution_count": 19,
     "metadata": {},
     "output_type": "execute_result"
    }
   ],
   "source": [
    "data = pd.Series(data, index=index)\n",
    "data "
   ]
  },
  {
   "cell_type": "markdown",
   "metadata": {},
   "source": [
    "总结: series(1维数据(random.randn) + MultiIndex(tuple))"
   ]
  },
  {
   "cell_type": "code",
   "execution_count": null,
   "metadata": {
    "collapsed": true
   },
   "outputs": [],
   "source": []
  }
 ],
 "metadata": {
  "kernelspec": {
   "display_name": "Python 3",
   "language": "python",
   "name": "python3"
  },
  "language_info": {
   "codemirror_mode": {
    "name": "ipython",
    "version": 3
   },
   "file_extension": ".py",
   "mimetype": "text/x-python",
   "name": "python",
   "nbconvert_exporter": "python",
   "pygments_lexer": "ipython3",
   "version": "3.6.1"
  }
 },
 "nbformat": 4,
 "nbformat_minor": 2
}
