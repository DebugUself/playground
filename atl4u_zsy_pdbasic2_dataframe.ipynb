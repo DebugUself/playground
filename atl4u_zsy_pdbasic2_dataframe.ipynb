{
 "cells": [
  {
   "cell_type": "markdown",
   "metadata": {},
   "source": [
    "# 日期\n",
    "20170626 Mon\n",
    "\n",
    "# 目标\n",
    "- 用dataframe装2darray\n",
    "\n",
    "# 参考资料\n",
    "- DataFrame as a dictionary http://nbviewer.jupyter.org/github/donnemartin/data-science-ipython-notebooks/blob/master/pandas/03.02-Data-Indexing-and-Selection.ipynb#DataFrame-as-a-dictionary\n"
   ]
  },
  {
   "cell_type": "code",
   "execution_count": 1,
   "metadata": {
    "collapsed": true
   },
   "outputs": [],
   "source": [
    "import pandas as pd\n",
    "import numpy as np"
   ]
  },
  {
   "cell_type": "code",
   "execution_count": 2,
   "metadata": {
    "collapsed": true
   },
   "outputs": [],
   "source": [
    "py = pd.Series({'Mon': 2, \n",
    "                'Tue': 3.5, \n",
    "                'Wed': 2, \n",
    "                'Thu': 1, \n",
    "                'Fri': 0})"
   ]
  },
  {
   "cell_type": "code",
   "execution_count": 3,
   "metadata": {
    "collapsed": true
   },
   "outputs": [],
   "source": [
    "cost = pd.Series({'Mon': 12, \n",
    "                'Tue': 13.5, \n",
    "                'Wed': 12, \n",
    "                'Thu': 11, \n",
    "                'Fri': 10})"
   ]
  },
  {
   "cell_type": "code",
   "execution_count": 4,
   "metadata": {
    "collapsed": true
   },
   "outputs": [],
   "source": [
    "play = pd.Series({'Mon': 4, \n",
    "                'Tue': 4.5, \n",
    "                'Wed': 4, \n",
    "                'Thu': 5, \n",
    "                'Fri': 3})"
   ]
  },
  {
   "cell_type": "code",
   "execution_count": 5,
   "metadata": {
    "collapsed": true
   },
   "outputs": [],
   "source": [
    "data = pd.DataFrame({'py': py, 'cost': cost, 'play': play})"
   ]
  },
  {
   "cell_type": "code",
   "execution_count": 6,
   "metadata": {},
   "outputs": [
    {
     "data": {
      "text/html": [
       "<div>\n",
       "<style>\n",
       "    .dataframe thead tr:only-child th {\n",
       "        text-align: right;\n",
       "    }\n",
       "\n",
       "    .dataframe thead th {\n",
       "        text-align: left;\n",
       "    }\n",
       "\n",
       "    .dataframe tbody tr th {\n",
       "        vertical-align: top;\n",
       "    }\n",
       "</style>\n",
       "<table border=\"1\" class=\"dataframe\">\n",
       "  <thead>\n",
       "    <tr style=\"text-align: right;\">\n",
       "      <th></th>\n",
       "      <th>cost</th>\n",
       "      <th>play</th>\n",
       "      <th>py</th>\n",
       "    </tr>\n",
       "  </thead>\n",
       "  <tbody>\n",
       "    <tr>\n",
       "      <th>Fri</th>\n",
       "      <td>10.0</td>\n",
       "      <td>3.0</td>\n",
       "      <td>0.0</td>\n",
       "    </tr>\n",
       "    <tr>\n",
       "      <th>Mon</th>\n",
       "      <td>12.0</td>\n",
       "      <td>4.0</td>\n",
       "      <td>2.0</td>\n",
       "    </tr>\n",
       "    <tr>\n",
       "      <th>Thu</th>\n",
       "      <td>11.0</td>\n",
       "      <td>5.0</td>\n",
       "      <td>1.0</td>\n",
       "    </tr>\n",
       "    <tr>\n",
       "      <th>Tue</th>\n",
       "      <td>13.5</td>\n",
       "      <td>4.5</td>\n",
       "      <td>3.5</td>\n",
       "    </tr>\n",
       "    <tr>\n",
       "      <th>Wed</th>\n",
       "      <td>12.0</td>\n",
       "      <td>4.0</td>\n",
       "      <td>2.0</td>\n",
       "    </tr>\n",
       "  </tbody>\n",
       "</table>\n",
       "</div>"
      ],
      "text/plain": [
       "     cost  play   py\n",
       "Fri  10.0   3.0  0.0\n",
       "Mon  12.0   4.0  2.0\n",
       "Thu  11.0   5.0  1.0\n",
       "Tue  13.5   4.5  3.5\n",
       "Wed  12.0   4.0  2.0"
      ]
     },
     "execution_count": 6,
     "metadata": {},
     "output_type": "execute_result"
    }
   ],
   "source": [
    "data"
   ]
  },
  {
   "cell_type": "markdown",
   "metadata": {},
   "source": [
    "# 問題1\n",
    "\n",
    "- 问:如何控制Mon Tue Wed的顺序？indexing?\n",
    "- 思考:想使用的功能在教材上找不到时候怎么办？\n",
    "- kw\n",
    "  + DataFrame\n",
    "  + name\n",
    "  + index\n",
    " \n",
    " > 回答:如果想要有序排列, 為啥直接用yy-mm-dd直接排序？"
   ]
  },
  {
   "cell_type": "code",
   "execution_count": 3,
   "metadata": {
    "collapsed": true
   },
   "outputs": [],
   "source": [
    "import pandas as pd\n",
    "import numpy as np\n",
    "py = pd.Series({'2017-06-26': 2, \n",
    "                '2017-06-27': 3.5, \n",
    "                '2017-06-28': 2, \n",
    "                '2017-06-29': 1, \n",
    "                '2017-06-30': 0, \n",
    "                '2017-07-01': 4, \n",
    "                '2017-07-02': 1})\n",
    "cost = pd.Series({'2017-06-26': 12, \n",
    "                '2017-06-27': 13.5, \n",
    "                '2017-06-28': 12, \n",
    "                '2017-06-29': 11, \n",
    "                '2017-06-30': 10, \n",
    "                '2017-07-01': 14, \n",
    "                '2017-07-02': 11})\n",
    "play = pd.Series({'2017-06-26': 4, \n",
    "                '2017-06-27': 7, \n",
    "                '2017-06-28': 4.5, \n",
    "                '2017-06-29': 2, \n",
    "                '2017-06-30': 4, \n",
    "                '2017-07-01': 6, \n",
    "                '2017-07-02': 3})"
   ]
  },
  {
   "cell_type": "code",
   "execution_count": 4,
   "metadata": {
    "collapsed": true
   },
   "outputs": [],
   "source": [
    "data = pd.DataFrame({'py': py, 'cost': cost, 'play': play})"
   ]
  },
  {
   "cell_type": "code",
   "execution_count": 5,
   "metadata": {},
   "outputs": [
    {
     "data": {
      "text/html": [
       "<div>\n",
       "<style>\n",
       "    .dataframe thead tr:only-child th {\n",
       "        text-align: right;\n",
       "    }\n",
       "\n",
       "    .dataframe thead th {\n",
       "        text-align: left;\n",
       "    }\n",
       "\n",
       "    .dataframe tbody tr th {\n",
       "        vertical-align: top;\n",
       "    }\n",
       "</style>\n",
       "<table border=\"1\" class=\"dataframe\">\n",
       "  <thead>\n",
       "    <tr style=\"text-align: right;\">\n",
       "      <th></th>\n",
       "      <th>cost</th>\n",
       "      <th>play</th>\n",
       "      <th>py</th>\n",
       "    </tr>\n",
       "  </thead>\n",
       "  <tbody>\n",
       "    <tr>\n",
       "      <th>2017-06-26</th>\n",
       "      <td>12.0</td>\n",
       "      <td>4.0</td>\n",
       "      <td>2.0</td>\n",
       "    </tr>\n",
       "    <tr>\n",
       "      <th>2017-06-27</th>\n",
       "      <td>13.5</td>\n",
       "      <td>7.0</td>\n",
       "      <td>3.5</td>\n",
       "    </tr>\n",
       "    <tr>\n",
       "      <th>2017-06-28</th>\n",
       "      <td>12.0</td>\n",
       "      <td>4.5</td>\n",
       "      <td>2.0</td>\n",
       "    </tr>\n",
       "    <tr>\n",
       "      <th>2017-06-29</th>\n",
       "      <td>11.0</td>\n",
       "      <td>2.0</td>\n",
       "      <td>1.0</td>\n",
       "    </tr>\n",
       "    <tr>\n",
       "      <th>2017-06-30</th>\n",
       "      <td>10.0</td>\n",
       "      <td>4.0</td>\n",
       "      <td>0.0</td>\n",
       "    </tr>\n",
       "    <tr>\n",
       "      <th>2017-07-01</th>\n",
       "      <td>14.0</td>\n",
       "      <td>6.0</td>\n",
       "      <td>4.0</td>\n",
       "    </tr>\n",
       "    <tr>\n",
       "      <th>2017-07-02</th>\n",
       "      <td>11.0</td>\n",
       "      <td>3.0</td>\n",
       "      <td>1.0</td>\n",
       "    </tr>\n",
       "  </tbody>\n",
       "</table>\n",
       "</div>"
      ],
      "text/plain": [
       "            cost  play   py\n",
       "2017-06-26  12.0   4.0  2.0\n",
       "2017-06-27  13.5   7.0  3.5\n",
       "2017-06-28  12.0   4.5  2.0\n",
       "2017-06-29  11.0   2.0  1.0\n",
       "2017-06-30  10.0   4.0  0.0\n",
       "2017-07-01  14.0   6.0  4.0\n",
       "2017-07-02  11.0   3.0  1.0"
      ]
     },
     "execution_count": 5,
     "metadata": {},
     "output_type": "execute_result"
    }
   ],
   "source": [
    "data"
   ]
  },
  {
   "cell_type": "code",
   "execution_count": 7,
   "metadata": {},
   "outputs": [
    {
     "data": {
      "text/plain": [
       "2017-06-26    12.0\n",
       "2017-06-27    13.5\n",
       "2017-06-28    12.0\n",
       "2017-06-29    11.0\n",
       "2017-06-30    10.0\n",
       "2017-07-01    14.0\n",
       "2017-07-02    11.0\n",
       "Name: cost, dtype: float64"
      ]
     },
     "execution_count": 7,
     "metadata": {},
     "output_type": "execute_result"
    }
   ],
   "source": [
    "data['cost']"
   ]
  },
  {
   "cell_type": "code",
   "execution_count": 8,
   "metadata": {},
   "outputs": [
    {
     "data": {
      "text/plain": [
       "pandas.core.series.Series"
      ]
     },
     "execution_count": 8,
     "metadata": {},
     "output_type": "execute_result"
    }
   ],
   "source": [
    "type(data['cost'])"
   ]
  },
  {
   "cell_type": "markdown",
   "metadata": {},
   "source": [
    "# 問題2\n",
    "\n",
    "```\n",
    "還是排序問題\n",
    "即使column使用了yy-mm-dd排序\n",
    "但是cost, play, py排序依然是亂的\n",
    "目標是\n",
    "row的排序為py, cost, play\n",
    "```\n",
    "\n",
    "## 行動2.1\n",
    "- kw: pandas 行排序\n",
    "- 參考資料: [使用Pandas对数据进行筛选和排序](http://bluewhale.cc/2016-08-06/use-pandas-filter-and-sort.html)\n",
    "- 代碼: 無\n",
    "- 執行結果: 無\n",
    "\n",
    "## 教訓2.1\n",
    "- pandas的邏輯似乎並不是根據行裴排序\n",
    "- pandas排序根據內置字段進行篩選排序\n",
    "- 那麼就要先學習pandas各種典型排序情景"
   ]
  },
  {
   "cell_type": "code",
   "execution_count": null,
   "metadata": {
    "collapsed": true
   },
   "outputs": [],
   "source": []
  },
  {
   "cell_type": "code",
   "execution_count": null,
   "metadata": {
    "collapsed": true
   },
   "outputs": [],
   "source": []
  }
 ],
 "metadata": {
  "kernelspec": {
   "display_name": "Python 3",
   "language": "python",
   "name": "python3"
  },
  "language_info": {
   "codemirror_mode": {
    "name": "ipython",
    "version": 3
   },
   "file_extension": ".py",
   "mimetype": "text/x-python",
   "name": "python",
   "nbconvert_exporter": "python",
   "pygments_lexer": "ipython3",
   "version": "3.6.1"
  }
 },
 "nbformat": 4,
 "nbformat_minor": 2
}
