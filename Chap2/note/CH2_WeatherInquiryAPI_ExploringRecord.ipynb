{
 "cells": [
  {
   "cell_type": "markdown",
   "metadata": {
    "toc": "true"
   },
   "source": [
    "# Table of Contents\n",
    " <p><div class=\"lev1 toc-item\"><a href=\"#CH2-天气查询-API\" data-toc-modified-id=\"CH2-天气查询-API-1\"><span class=\"toc-item-num\">1&nbsp;&nbsp;</span>CH2 天气查询 API</a></div><div class=\"lev2 toc-item\"><a href=\"#Task\" data-toc-modified-id=\"Task-11\"><span class=\"toc-item-num\">1.1&nbsp;&nbsp;</span>Task</a></div><div class=\"lev3 toc-item\"><a href=\"#Basic\" data-toc-modified-id=\"Basic-111\"><span class=\"toc-item-num\">1.1.1&nbsp;&nbsp;</span>Basic</a></div><div class=\"lev3 toc-item\"><a href=\"#Advance\" data-toc-modified-id=\"Advance-112\"><span class=\"toc-item-num\">1.1.2&nbsp;&nbsp;</span>Advance</a></div><div class=\"lev2 toc-item\"><a href=\"#Think\" data-toc-modified-id=\"Think-12\"><span class=\"toc-item-num\">1.2&nbsp;&nbsp;</span>Think</a></div><div class=\"lev2 toc-item\"><a href=\"#Action\" data-toc-modified-id=\"Action-13\"><span class=\"toc-item-num\">1.3&nbsp;&nbsp;</span>Action</a></div><div class=\"lev2 toc-item\"><a href=\"#Keypoint\" data-toc-modified-id=\"Keypoint-14\"><span class=\"toc-item-num\">1.4&nbsp;&nbsp;</span>Keypoint</a></div>"
   ]
  },
  {
   "cell_type": "markdown",
   "metadata": {},
   "source": [
    "# CH2 天气查询 API"
   ]
  },
  {
   "cell_type": "markdown",
   "metadata": {
    "ExecuteTime": {
     "end_time": "2017-08-21T05:27:49.786649Z",
     "start_time": "2017-08-21T05:27:49.775036Z"
    }
   },
   "source": [
    "## Task\n",
    "\n",
    "###  Basic\n",
    "- 命令行界面下天气查询程序(API)\n",
    "    - 输入城市名，返回该城市最新的天气数据；\n",
    "    - 输入指令，获取帮助信息（一般使用 h 或 help）；\n",
    "    - 输入指令，获取历史查询信息（一般使用 history）；\n",
    "    - 输入指令，退出程序的交互（一般使用 quit 或 exit）；\n",
    "\n",
    "### Advance \n",
    "\n",
    "- 定时查询天气\n",
    "- 国内 API 和国外 API 不同的调用姿势\n",
    "- 如何设计 API？\n",
    "- 温度单位转换功能"
   ]
  },
  {
   "cell_type": "markdown",
   "metadata": {
    "ExecuteTime": {
     "end_time": "2017-08-21T05:29:40.102434Z",
     "start_time": "2017-08-21T05:29:40.097171Z"
    }
   },
   "source": [
    "## Think\n",
    "\n",
    "- 0 In 城市名 Out 最新的天气数据\n",
    "    - 0.1 调用文件获取天气信息 => 调用 API 获取天气信息\n",
    "        - 0 什么是 api?\n",
    "            - 服务员\n",
    "        - 1 选择 api\n",
    "            - 心知\n",
    "            - OWM\n",
    "        - 2 如何调用 api?\n",
    "            - requests.get(url,param,timeout)\n",
    "            - requests.get.JOSN()\n",
    "        - 3 JOSN 信息如何处理\n",
    "            - 观察:返回的字典与数列组合格式,逐层提取\n",
    "            - `weather = r.get('results')[0].get('now').get('text')`\n",
    "\n",
    "- 1 help(),history(),quit()\n",
    "    - 在 ch1 基础上进行改造\n",
    "        - 使其可复用,易于 import\n"
   ]
  },
  {
   "cell_type": "markdown",
   "metadata": {},
   "source": [
    "## Action "
   ]
  },
  {
   "cell_type": "markdown",
   "metadata": {},
   "source": [
    "- 0 什么是 api\n",
    "    - [=>](http://readwrite.com/2013/09/19/api-defined/)用最简单的话说, api 是管理一个程序如何与另一个程序通信的要求集合.\n",
    "    - [=>](https://www.youtube.com/watch?v=s7wmiS2mSXY)不同应用,数据库,服务设备间来回传递信息的\"服务员\"\n",
    "- 1 选择 api \n",
    "    - 课程提供了三种\n",
    "        - [Current weather data - OpenWeatherMap](http://openweathermap.org/current)|[How to start - OpenWeatherMap](http://openweathermap.org/appid)\n",
    "        - [心知天气 - 天气数据API文档](https://www.seniverse.com/doc)\n",
    "        - [彩云天气API/v2 - 集智百科](http://wiki.swarma.net/index.php?title=%E5%BD%A9%E4%BA%91%E5%A4%A9%E6%B0%94API/v2&redirect=no)\n",
    "    - 初探\n",
    "        - OWM 是国外 api,心知和彩云是国内 api\n",
    "        - 三个都可有对个人开发者的免费方案\n",
    "        - 数据来源\n",
    "            - 心知:气象局官方授权的气象数据\n",
    "            - OWM:Raw data from 40,000+ weather stations\n",
    "            - 彩云:“分钟降雨预报由中国气象局和彩云数据联合出品”\n",
    "        - 彩云申请 ID 时需要审核,扣分\n",
    "        - 心知天气有 API python demo,大加分\n",
    "            - =>[seniverse/seniverse-api-demos: Api usage demos for seniverse api](https://github.com/seniverse/seniverse-api-demos)\n",
    "        - 优先级: 心知 > OWM >  彩云  \n",
    "- 2 探索 requests 模块\n",
    "    - 下载安装\n",
    "       - 方式1:`conda install requests`(anaconda3 有预装)\n",
    "       - 方式2: requests [官方推荐](http://docs.python-requests.org/en/master/user/install/)的 pip 安装.\n",
    "       - 查看模块是否存在: `conda list` \n",
    "           - => `requests                  2.14.2                   py36_0`\n",
    "       - 确认最新版\n",
    "           - `conda update requests`\n",
    "           - => `requests                  2.18.4                   py36_0    conda-forge`\n",
    "       - 以上准备over,即可开始探索 `requests`\n",
    "    - 使用\n",
    "        - [Quickstart — Requests 2.18.4 documentation](http://docs.python-requests.org/en/master/user/quickstart/#make-a-request)\n",
    "        - 00 看标题,看 demo,功能呢表述相当清楚了,这里列出基本使用\n",
    "        - 01 实现所有 http request types:\n",
    "        \n",
    "        ```python\n",
    "        r = requests.get('https://api.github.com/events') \n",
    "        r = requests.post('http://httpbin.org/post',data = {'key':'value'} )\n",
    "        r = requests.put('http://httpbin.org/put', data = {'key':'value'})\n",
    "        r = requests.delete('http://httpbin.org/delete')\n",
    "        r = requests.head('http://httpbin.org/get')\n",
    "        r = requests.options('http://httpbin.org/get')\n",
    "\n",
    "        # => \n",
    "        # all print(r):\n",
    "        # <Response [200]>\n",
    "        ```\n",
    "        \n",
    "        - 02 在 URL 中传递函数\n",
    "            - params=payload\n",
    "        - 03 查看 response 内容\n",
    "            - raw(,stream=True)\n",
    "            - text\n",
    "            - byte\n",
    "            - **josn**\n",
    "        ```python\n",
    "        import requests\n",
    "\n",
    "        r = requests.get('https://api.github.com/events')\n",
    "        r.json()\n",
    "        #=>\n",
    "        [{u'repository': {u'open_issues': 0, u'url': 'https://github.com/...\n",
    "        ```\n",
    "    - 小结\n",
    "        - requests 通过 url 连接起 程序(本地设备) 与 网站(服务器)\n",
    "    ```\n",
    "    本地 <- requests.操作(url,*参数/变量) -> 服务器\n",
    "                    |.get() 获取请求\n",
    "                    |.get().josn 以 josn 格式读取 get 的 response\n",
    "    ```\n",
    "- 03 requests 拉取 天气 json 文件到本地\n",
    "    - [URL 示例](https://www.seniverse.com/doc#now-get)\n",
    "        - API 地址\n",
    "        - 获取天气信息的必要参数\n",
    "            - 密匙\n",
    "            - 地点\n",
    "            - 语言\n",
    "            - 单位\n",
    "        - 观察返回值,是字典对象\n",
    "            - 逐层读取天气信息"
   ]
  },
  {
   "cell_type": "code",
   "execution_count": 9,
   "metadata": {
    "ExecuteTime": {
     "end_time": "2017-08-21T16:25:20.038837Z",
     "start_time": "2017-08-21T16:25:18.099938Z"
    }
   },
   "outputs": [
    {
     "name": "stdout",
     "output_type": "stream",
     "text": [
      "请输入查询城市:北京\n",
      "<Response [200]>\n",
      "url:\n",
      " https://api.seniverse.com/v3/weather/now.json?key=ozqwsdskrj99euhd&location=%E5%8C%97%E4%BA%AC&language=zh-Hans&unit=c\n",
      "json:\n",
      " {'results': [{'location': {'id': 'WX4FBXXFKE4F', 'name': '北京', 'country': 'CN', 'path': '北京,北京,中国', 'timezone': 'Asia/Shanghai', 'timezone_offset': '+08:00'}, 'now': {'text': '阴', 'code': '9', 'temperature': '28'}, 'last_update': '2017-08-22T00:15:00+08:00'}]}\n",
      "weather: 阴\n"
     ]
    }
   ],
   "source": [
    "# 03 requests 拉取 天气 json 文件到本地\n",
    "import requests\n",
    "\n",
    "API = 'https://api.seniverse.com/v3/weather/now.json'\n",
    "KEY = 'ozqwsdskrj99euhd'\n",
    "location = input(\"请输入查询城市:\")\n",
    "LANGUAGE = 'zh-Hans'\n",
    "UNIT = 'c'\n",
    "\n",
    "query_needed_params = {'key' : KEY,\n",
    "                       'location' : location,\n",
    "                       'language' : LANGUAGE,\n",
    "                       'unit' : UNIT }\n",
    "r = requests.get(API, params =query_needed_params, timeout =1)\n",
    "print(r)\n",
    "print('url:\\n', r.url)\n",
    "\n",
    "r = r.json()\n",
    "print('json:\\n', r)\n",
    "\n",
    "# 提取天气信息\n",
    "weather = r.get('results')[0].get('now').get('text')\n",
    "print('weather:',weather)"
   ]
  },
  {
   "cell_type": "markdown",
   "metadata": {},
   "source": [
    "## Keypoint\n",
    "- API\n",
    "- Requests\n",
    "    - http\n",
    "    - HTTP request types: \n",
    "        - Get\n",
    "        - Post\n",
    "        - PUT \n",
    "        - DELETE\n",
    "        - HEAD \n",
    "        - OPTIONS\n",
    "\n",
    "- JOSN\n",
    "- 提问的智慧 "
   ]
  },
  {
   "cell_type": "markdown",
   "metadata": {
    "ExecuteTime": {
     "end_time": "2017-08-21T05:29:53.536164Z",
     "start_time": "2017-08-21T05:29:53.533263Z"
    }
   },
   "source": [
    "## Timelog\n",
    "- 理解 api,比较三个天气api `42m`\n",
    "- requests下载安装,快速启用 `42m`\n",
    "- "
   ]
  },
  {
   "cell_type": "code",
   "execution_count": null,
   "metadata": {
    "collapsed": true
   },
   "outputs": [],
   "source": []
  }
 ],
 "metadata": {
  "kernelspec": {
   "display_name": "Python 3",
   "language": "python",
   "name": "python3"
  },
  "language_info": {
   "codemirror_mode": {
    "name": "ipython",
    "version": 3
   },
   "file_extension": ".py",
   "mimetype": "text/x-python",
   "name": "python",
   "nbconvert_exporter": "python",
   "pygments_lexer": "ipython3",
   "version": "3.6.1"
  },
  "toc": {
   "colors": {
    "hover_highlight": "#DAA520",
    "navigate_num": "#000000",
    "navigate_text": "#333333",
    "running_highlight": "#FF0000",
    "selected_highlight": "#FFD700",
    "sidebar_border": "#EEEEEE",
    "wrapper_background": "#FFFFFF"
   },
   "moveMenuLeft": true,
   "nav_menu": {
    "height": "138px",
    "width": "252px"
   },
   "navigate_menu": true,
   "number_sections": true,
   "sideBar": true,
   "threshold": 4,
   "toc_cell": true,
   "toc_section_display": "block",
   "toc_window_display": true,
   "widenNotebook": false
  }
 },
 "nbformat": 4,
 "nbformat_minor": 2
}
