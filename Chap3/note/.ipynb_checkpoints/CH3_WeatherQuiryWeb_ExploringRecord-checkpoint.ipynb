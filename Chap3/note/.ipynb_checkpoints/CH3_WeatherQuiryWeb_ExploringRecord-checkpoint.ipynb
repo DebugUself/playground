{
 "cells": [
  {
   "cell_type": "markdown",
   "metadata": {
    "toc": "true"
   },
   "source": [
    "# Table of Contents\n",
    " <p><div class=\"lev1 toc-item\"><a href=\"#CH3-天气查询-Web-程序\" data-toc-modified-id=\"CH3-天气查询-Web-程序-1\"><span class=\"toc-item-num\">1&nbsp;&nbsp;</span>CH3 天气查询 Web 程序</a></div><div class=\"lev2 toc-item\"><a href=\"#Task\" data-toc-modified-id=\"Task-11\"><span class=\"toc-item-num\">1.1&nbsp;&nbsp;</span>Task</a></div><div class=\"lev3 toc-item\"><a href=\"#Basic-Task\" data-toc-modified-id=\"Basic-Task-111\"><span class=\"toc-item-num\">1.1.1&nbsp;&nbsp;</span>Basic Task</a></div><div class=\"lev3 toc-item\"><a href=\"#Advance-Task\" data-toc-modified-id=\"Advance-Task-112\"><span class=\"toc-item-num\">1.1.2&nbsp;&nbsp;</span>Advance Task</a></div><div class=\"lev2 toc-item\"><a href=\"#Think\" data-toc-modified-id=\"Think-12\"><span class=\"toc-item-num\">1.2&nbsp;&nbsp;</span>Think</a></div><div class=\"lev2 toc-item\"><a href=\"#Action\" data-toc-modified-id=\"Action-13\"><span class=\"toc-item-num\">1.3&nbsp;&nbsp;</span>Action</a></div><div class=\"lev2 toc-item\"><a href=\"#00-flask-的-mvp\" data-toc-modified-id=\"00-flask-的-mvp-14\"><span class=\"toc-item-num\">1.4&nbsp;&nbsp;</span>00 flask 的 mvp</a></div><div class=\"lev2 toc-item\"><a href=\"#碎片\" data-toc-modified-id=\"碎片-15\"><span class=\"toc-item-num\">1.5&nbsp;&nbsp;</span>碎片</a></div><div class=\"lev2 toc-item\"><a href=\"#Timelog\" data-toc-modified-id=\"Timelog-16\"><span class=\"toc-item-num\">1.6&nbsp;&nbsp;</span>Timelog</a></div>"
   ]
  },
  {
   "cell_type": "markdown",
   "metadata": {},
   "source": [
    "# CH3 天气查询 Web 程序"
   ]
  },
  {
   "cell_type": "markdown",
   "metadata": {},
   "source": [
    "## Task\n",
    "\n",
    "### Basic Task\n",
    "\n",
    "-  内网可用的天气查询程序(web)\n",
    "    - 基本功能\n",
    "        - 输入城市名，返回该城市最新的天气数据；\n",
    "        - 点击帮助,获取帮助信息\n",
    "        - 点击历史,获取历史查询信息\n",
    "- 部署在命令行界面\n",
    "\n",
    "### Advance Task\n",
    "\n",
    "- web应用适配移动端"
   ]
  },
  {
   "cell_type": "markdown",
   "metadata": {},
   "source": [
    "## Think"
   ]
  },
  {
   "cell_type": "markdown",
   "metadata": {},
   "source": [
    "- 00 简单了解 web 开发与 web 框架\n",
    "    - web 开发: 相对桌面客户端 Client/Server的CS 架构,更容易修改与升级的 browser/server模式的 BS 架构\n",
    "    - web 框架:向程序员隐藏了处理 http 请求和响应相关的基础代码\n",
    "        - pytho的两个代表框架\n",
    "            - Django\n",
    "            - Flask\n",
    "- 01 "
   ]
  },
  {
   "cell_type": "markdown",
   "metadata": {},
   "source": [
    "## Action "
   ]
  },
  {
   "cell_type": "markdown",
   "metadata": {},
   "source": [
    "## 00 flask 的 mvp\n",
    "\n",
    "- 0 flask 安装\n",
    "    - 00 基本概念\n",
    "        -  [WSGI(Web Server Gateway Interface)](https://en.wikipedia.org/wiki/Web_Server_Gateway_Interface#WSGI_and_Python_3)\n",
    "            - python 编程语言中,web服务器与web应用程序/框架的简单接口规范,初始于2003发布为 PEP 333,最新适应 python3的版本为 PEP 3333\n",
    "        -  Werkzeug:WSGI 的工具包\n",
    "        -  [Jinja2](http://jinja.pocoo.org/):渲染模板\n",
    "    - 01 PY3 的使用注意\n",
    "        - py>3.2\n",
    "        - latest versions of all Flask-related packages\n",
    "            - Flask 0.10 and Werkzeug 0.9 \n",
    "    - 02安装\n",
    "        - 0 pip/virtualenv\n",
    "            + 由于已经是使用了包管理工具anaconada3, 再安装virtualenv会报错\n",
    "        - 1 anaconda3\n",
    "            + `conda list` => 查看预装包列表\n",
    "                * flask  0.12.2  py36_0\n",
    "            + `conda update flask`=> 已是最新 \n",
    "- 1 flask mvp\n",
    "    - =>[Quickstart — Flask Documentation (0.12)](http://flask.pocoo.org/docs/0.12/quickstart/)\n",
    "    - 00 编辑hello world脚本:\n",
    "        * WeatherQueryWebAPP_Flask.py\n",
    "        * 不要用 FLask.py, 会造成混乱\n",
    "    - 01 设置环境变量:FLASK_APP environment variable\n",
    "  ***\n",
    "    ```python\n",
    "    # 00 WeatherQueryWebAPP_Flask.py\n",
    "    from flask import Flask  #引入 flask 类\n",
    "    app = Flask(__name__)  #该类的一个示例就是WSGI交互程序\n",
    "\n",
    "    @app.route('/')  #告诉 flask 什么样的 url 可以触发函数\n",
    "    def hello_world() :  #函数名用于生成url,并返回想要呈现在用户浏览器的信息\n",
    "        return \"Hello,World!\"\n",
    "    ```\n",
    "    ***\n",
    "    ```python\n",
    "    # 01 Terminal\n",
    "    $ export FLASK_APP=WeatherQueryWebAPP_Flask.py # 设置启动的 app 名称\n",
    "    \n",
    "    $ export FLASK_DEBUG=1 #开启调试模式\n",
    "    ```\n",
    "    ***\n",
    "    - 02 运行服务器\n",
    "    ```\n",
    "    $ flask run\n",
    "    ```\n",
    "    - 运行本地服务器\n"
   ]
  },
  {
   "cell_type": "markdown",
   "metadata": {},
   "source": [
    "## 碎片\n",
    "- 模板\n",
    "- "
   ]
  },
  {
   "cell_type": "markdown",
   "metadata": {},
   "source": [
    "## Timelog "
   ]
  },
  {
   "cell_type": "code",
   "execution_count": null,
   "metadata": {
    "collapsed": true
   },
   "outputs": [],
   "source": [
    "- 170913\n",
    "    - flask install  20min\n",
    "    - flask mvp  45min !WARN: 细节过渡深究"
   ]
  }
 ],
 "metadata": {
  "kernelspec": {
   "display_name": "Python 3",
   "language": "python",
   "name": "python3"
  },
  "language_info": {
   "codemirror_mode": {
    "name": "ipython",
    "version": 3
   },
   "file_extension": ".py",
   "mimetype": "text/x-python",
   "name": "python",
   "nbconvert_exporter": "python",
   "pygments_lexer": "ipython3",
   "version": "3.6.1"
  },
  "toc": {
   "colors": {
    "hover_highlight": "#DAA520",
    "navigate_num": "#000000",
    "navigate_text": "#333333",
    "running_highlight": "#FF0000",
    "selected_highlight": "#FFD700",
    "sidebar_border": "#EEEEEE",
    "wrapper_background": "#FFFFFF"
   },
   "moveMenuLeft": true,
   "nav_menu": {
    "height": "30px",
    "width": "252px"
   },
   "navigate_menu": true,
   "number_sections": true,
   "sideBar": true,
   "threshold": 4,
   "toc_cell": true,
   "toc_section_display": "block",
   "toc_window_display": true,
   "widenNotebook": false
  }
 },
 "nbformat": 4,
 "nbformat_minor": 2
}
